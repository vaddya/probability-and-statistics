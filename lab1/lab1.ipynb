{
 "cells": [
  {
   "cell_type": "markdown",
   "metadata": {},
   "source": [
    "# Расчетное задание 1"
   ]
  },
  {
   "cell_type": "markdown",
   "metadata": {},
   "source": [
    "## Идентификация сообщений, передаваемых по зашумленному каналу связи"
   ]
  },
  {
   "cell_type": "markdown",
   "metadata": {},
   "source": [
    "### Часть 1. Последовательная передача одинаковых сообщений"
   ]
  },
  {
   "cell_type": "markdown",
   "metadata": {},
   "source": [
    "#### 1.1. Определение переданного сообщения"
   ]
  },
  {
   "cell_type": "markdown",
   "metadata": {},
   "source": [
    "##### Исходный алфавит"
   ]
  },
  {
   "cell_type": "code",
   "execution_count": 1,
   "metadata": {},
   "outputs": [
    {
     "name": "stdout",
     "output_type": "stream",
     "text": [
      "{'у': '0111111', '6': '0000110', 'Т': '0011101', '№': '1010011', 'ь': '1000110', '4': '0000100', '9': '0001001', '1': '0000001', 'л': '0110111', 'Д': '0001110', 'Н': '0011000', 'И': '0010011', 'в': '0101101', '7': '0000111', 'О': '0011001', 'Ч': '0100010', 'Я': '0101010', 'ы': '1000111', 'ю': '1001010', ' ': '1010110', '(': '1010100', 'Р': '0011011', 'е': '0110000', 'А': '0001010', 'ч': '1000011', 'Ю': '0101001', 'Ц': '0100001', 'г': '0101110', '!': '1001110', 'С': '0011100', 'У': '0011110', ')': '1010101', 'Б': '0001011', 'З': '0010010', 'а': '0101011', 'п': '0111011', 'ж': '0110010', 'Е': '0001111', 'ш': '1000100', 'В': '0001100', 'б': '0101100', '-': '1010001', 'и': '0110100', 'Ё': '0010000', 'к': '0110110', 'Э': '0101000', 'Ф': '0011111', 'Ж': '0010001', 'П': '0011010', 'Ъ': '0100111', 'Х': '0100000', '5': '0000101', '_': '1010010', 'К': '0010101', 'з': '0110011', '3': '0000011', 'т': '0111110', 'ф': '1000000', 'Ы': '0100110', 'ъ': '1001000', 'э': '1001001', 'Щ': '0100100', 'м': '0111000', 'н': '0111001', ':': '1001111', 'Ь': '0100101', 'Л': '0010110', '0': '0000000', 'Ш': '0100011', 'х': '1000001', 'щ': '1000101', 'Г': '0001101', '?': '1010000', 'о': '0111010', '8': '0001000', 'д': '0101111', 'с': '0111101', 'М': '0010111', 'й': '0110101', 'ё': '0110001', ',': '1001101', 'ц': '1000010', 'Й': '0010100', 'я': '1001011', '.': '1001100', '2': '0000010', 'р': '0111100'}\n"
     ]
    }
   ],
   "source": [
    "alphabet = {}\n",
    "with open('alphabet.txt', encoding='utf8') as f:\n",
    "    content = f.readlines()\n",
    "    content = [x.rstrip().split('\\t') for x in content]\n",
    "    for pair in content:\n",
    "        alphabet[pair[0]] = pair[1]\n",
    "    print(alphabet)\n"
   ]
  },
  {
   "cell_type": "code",
   "execution_count": 2,
   "metadata": {
    "collapsed": true
   },
   "outputs": [],
   "source": [
    "def get_char(code: str):\n",
    "    \"\"\"Найти символ по его двоичному коду\"\"\"\n",
    "    for key, value in alphabet.items():\n",
    "        if value == code:\n",
    "            return key\n"
   ]
  },
  {
   "cell_type": "code",
   "execution_count": 3,
   "metadata": {
    "collapsed": true
   },
   "outputs": [],
   "source": [
    "def get_sorted_keys():\n",
    "    \"\"\"Получить алфавит, отсортерованный по двоичному коду символов\"\"\"\n",
    "    sorted_values = sorted(alphabet.values())\n",
    "    sorted_keys = []\n",
    "    for value in sorted_values:\n",
    "        sorted_keys.append(get_char(value))\n",
    "    return sorted_keys\n"
   ]
  },
  {
   "cell_type": "markdown",
   "metadata": {},
   "source": [
    "Словарь априорных вероятностей:"
   ]
  },
  {
   "cell_type": "code",
   "execution_count": 4,
   "metadata": {
    "collapsed": true
   },
   "outputs": [],
   "source": [
    "priori = alphabet.copy()\n",
    "n = len(alphabet)\n",
    "p = 1 / n\n",
    "for key, value in priori.items():\n",
    "    priori[key] = p\n"
   ]
  },
  {
   "cell_type": "markdown",
   "metadata": {},
   "source": [
    "Функция, находящая максимальное значение в словаре"
   ]
  },
  {
   "cell_type": "code",
   "execution_count": 5,
   "metadata": {
    "collapsed": true
   },
   "outputs": [],
   "source": [
    "def find_max(d: dict):\n",
    "    \"\"\"Найти в словаре ключ с максимальным значением\"\"\"\n",
    "    return max(d, key=d.get)\n"
   ]
  },
  {
   "cell_type": "markdown",
   "metadata": {},
   "source": [
    "##### Входные данные"
   ]
  },
  {
   "cell_type": "code",
   "execution_count": 6,
   "metadata": {
    "collapsed": true
   },
   "outputs": [],
   "source": [
    "with open('input.txt', encoding='utf8') as f:\n",
    "    content = f.readlines()\n"
   ]
  },
  {
   "cell_type": "markdown",
   "metadata": {},
   "source": [
    "Колличество букв в каждом сообщении равно $s$:"
   ]
  },
  {
   "cell_type": "code",
   "execution_count": 7,
   "metadata": {},
   "outputs": [
    {
     "name": "stdout",
     "output_type": "stream",
     "text": [
      "s = 222\n"
     ]
    }
   ],
   "source": [
    "s = int(content[0].split(': ')[1])\n",
    "print('s = {s}'.format(s=s))\n"
   ]
  },
  {
   "cell_type": "markdown",
   "metadata": {},
   "source": [
    "Вероятность искажения каждого отдельного символа (бита) равна $q$, вероятность правильной передачи $p = 1 - q$:"
   ]
  },
  {
   "cell_type": "code",
   "execution_count": 8,
   "metadata": {},
   "outputs": [
    {
     "name": "stdout",
     "output_type": "stream",
     "text": [
      "p = 0.832, q = 0.168\n"
     ]
    }
   ],
   "source": [
    "q = float(content[2].split(': ')[1])\n",
    "p = 1 - q\n",
    "print('p = {p}, q = {q}'.format(p=p, q=q))\n"
   ]
  },
  {
   "cell_type": "markdown",
   "metadata": {},
   "source": [
    "Колличествно сообщений (посылок) равно $m$:"
   ]
  },
  {
   "cell_type": "code",
   "execution_count": 9,
   "metadata": {},
   "outputs": [
    {
     "name": "stdout",
     "output_type": "stream",
     "text": [
      "m = 18\n"
     ]
    }
   ],
   "source": [
    "m = int(content[3].split(': ')[1])\n",
    "print('m = {m}'.format(m=m))\n"
   ]
  },
  {
   "cell_type": "code",
   "execution_count": 10,
   "metadata": {
    "collapsed": true
   },
   "outputs": [],
   "source": [
    "def find_prob(x, y):\n",
    "    \"\"\"Найти вероятность p(y|x)\"\"\"\n",
    "    assert len(x) == len(y)\n",
    "    prob = 1\n",
    "    for i in range(len(x)):\n",
    "        prob = prob * (p if x[i] == y[i] else q)\n",
    "    return prob\n"
   ]
  },
  {
   "cell_type": "code",
   "execution_count": 11,
   "metadata": {
    "collapsed": true
   },
   "outputs": [],
   "source": [
    "def find_message_prob(x: dict, x_when_y: dict):\n",
    "    \"\"\"Найти вероятность p(y)\"\"\"\n",
    "    total = 0\n",
    "    for char in x_when_y.keys():\n",
    "        total = total + x_when_y[char] * x[char]\n",
    "    return total\n"
   ]
  },
  {
   "cell_type": "code",
   "execution_count": 12,
   "metadata": {},
   "outputs": [],
   "source": [
    "def find_posterior_probs(x: dict, y: str):\n",
    "    \"\"\"Найти вероятность p(x|y)\"\"\"\n",
    "    x_when_y = alphabet.copy()\n",
    "    for char in x_when_y.keys():\n",
    "        x_when_y[char] = find_prob(alphabet[char], y)\n",
    "    \n",
    "    prob_y = find_message_prob(x, x_when_y)\n",
    "    \n",
    "    x_post = x.copy()\n",
    "    for char in x.keys():\n",
    "        x_post[char] = x_when_y[char] * x[char] / prob_y\n",
    "        \n",
    "    return x_post"
   ]
  },
  {
   "cell_type": "code",
   "execution_count": 13,
   "metadata": {
    "collapsed": true
   },
   "outputs": [],
   "source": [
    "import math\n",
    "\n",
    "def find_entropy(x: dict):\n",
    "    \"\"\"Найти энтропию H(X)\"\"\"\n",
    "    res = 0\n",
    "    for key, value in x.items():\n",
    "        res = res + value * math.log2(value)\n",
    "    return -res\n"
   ]
  },
  {
   "cell_type": "code",
   "execution_count": 14,
   "metadata": {
    "collapsed": true
   },
   "outputs": [],
   "source": [
    "def find_cond_entropy(x: dict, y: str):\n",
    "    \"\"\"Найти условную энтропию H(X|y)\"\"\"\n",
    "    x_when_y = find_posterior_probs(x, y)\n",
    "    res = 0\n",
    "    for key, value in x.items():\n",
    "        res = res + x_when_y[key] * math.log2(x_when_y[key])\n",
    "    return -res\n"
   ]
  },
  {
   "cell_type": "code",
   "execution_count": 15,
   "metadata": {
    "collapsed": true
   },
   "outputs": [],
   "source": [
    "def find_avg_entropy(x: dict, y: list):\n",
    "    \"\"\"Найти среднюю условную энтропию H(X|Y)\"\"\"\n",
    "    res = 0\n",
    "    for yi in y:\n",
    "        x_when_y = find_posterior_probs(x, yi)\n",
    "        res = res + find_message_prob(x, x_when_y) * find_cond_entropy(x, yi)\n",
    "    return res\n",
    "    "
   ]
  },
  {
   "cell_type": "code",
   "execution_count": 16,
   "metadata": {
    "collapsed": true
   },
   "outputs": [],
   "source": [
    "def find_info(x: dict, y: str):\n",
    "    \"\"\"Найти количество информации об x I(X|y)\"\"\"\n",
    "    summ = 0\n",
    "    for char in x.keys():\n",
    "        summ = summ + find_prob(alphabet[char], y) * math.log2(x[char])\n",
    "    return -summ - find_cond_entropy(x, y)\n"
   ]
  },
  {
   "cell_type": "code",
   "execution_count": 17,
   "metadata": {
    "collapsed": true
   },
   "outputs": [],
   "source": [
    "def find_avg_info(x: dict, y: list):\n",
    "    \"\"\"Найти среднее количество информации об x H(X|Y)\"\"\"\n",
    "    res = 0\n",
    "    for yi in y:\n",
    "        x_when_y = find_posterior_probs(x, yi)\n",
    "        res = res + find_message_prob(x, x_when_y) * find_info(x, yi)\n",
    "    return res"
   ]
  },
  {
   "cell_type": "markdown",
   "metadata": {},
   "source": [
    "##### Все символы равновероятны"
   ]
  },
  {
   "cell_type": "code",
   "execution_count": 18,
   "metadata": {
    "collapsed": true
   },
   "outputs": [],
   "source": [
    "messages = []\n",
    "\n",
    "for i in range(m):\n",
    "    codes = content[i + 4].split(': ')[1].rstrip().split(' ')\n",
    "    messages.append(codes)\n"
   ]
  },
  {
   "cell_type": "code",
   "execution_count": 19,
   "metadata": {},
   "outputs": [],
   "source": [
    "chars = []  # вероятности появления каждого j-ого символа после i-ого сообщения\n",
    "entropies = []  # значения энтропий каждого j-ого символа после i-ого сообщения\n",
    "infos = []  # значения кол-ва информации об j-ом символе после i-ого сообщения\n",
    "\n",
    "char_array = []  # инициализируем априорными вероятностями\n",
    "for j in range(s):\n",
    "    char = priori.copy()\n",
    "    char_array.append(char)\n",
    "chars.append(char_array)\n",
    "\n",
    "for i in range(m):  # для каждого сообщения\n",
    "\n",
    "    entropies_array = []\n",
    "    info_array = []\n",
    "\n",
    "    for j in range(s):  # для каждой буквы в сообщении\n",
    "        entropies_array.append(find_entropy(chars[i][j]))\n",
    "        info_array.append(find_info(chars[i][j], messages[i][j]))\n",
    "        chars[i][j] = find_posterior_probs(chars[i][j], messages[i][j])\n",
    "\n",
    "    entropies.append(entropies_array)\n",
    "    infos.append(info_array)\n",
    "\n",
    "    if i != m - 1:  # априорное для следующего = постериорное для текущего\n",
    "        char_array = []\n",
    "        for j in range(s):\n",
    "            char = chars[i][j].copy()\n",
    "            char_array.append(char)\n",
    "        chars.append(char_array)\n"
   ]
  },
  {
   "cell_type": "code",
   "execution_count": 20,
   "metadata": {},
   "outputs": [
    {
     "name": "stdout",
     "output_type": "stream",
     "text": [
      "1: 8:ЛДьэчимв 4зГЩрТюизьдпПзж:ж235ц1Ё Т вжчННжпк вкБНпыпЯлдчт_заяит пЯ гХНоиб(вевЯчтЮосйиёцуЗНитЩтисШ СирелЬаМр3чЦТзШЬо,тча. Ял!ЛФтжгЯ(ЯоюсебмеЯТ! проСйшат6(ЦУЙ РммвкеифКо ззЬа:и(й?ннелЯр. А№Ч(рЯсяЁрн7х кадаёж2!кА(и3елаю эдЗ.\n",
      "2: бэ Я6эчинв 4пТХмчьиз6гНУЗзы_З35ю9Зь:ЛвгШмУжпжьвлЯма6пЯзу№У жЯ!итьпг№гЭмриЩ вЧбЯ№УЭаТкеёЙуЗНег4кисЮ )имеллп6ТчыеТЖавЯ,мчБш Ал! :ЫмДЯ(ппУсебпиЯс! проСе4ать(фДЗ ОННбтеишин(зЗЬаыи(л ОуелЧть АчЦ(бЯТчетн3х еадЯЭеА!тЭ(сБЧлаю эгЗ,\n",
      "3: г, ДьэчЛмв 4ауЩм, изшгттпз:_23Ьъ5Зь, вЧШмжжно вкорпьпЯлучт жачет по№геориЩьвжрЯятнойтеЖ уЛЗеЫЩтисЮ (имикла рБяЦсзаво,ича. Азя ,тоДо потрертегс: пробе4ать хти птмвтейфй? зРдпчи к(суелЯть 2-ШЛрЯсчетн7х жадЮния. Я(сБжлаю ,дП.\n",
      "4: гГ Дьячков 4адЩм: из гртпз:_Ч35ъ4З6, вжамжжуо влорп полу№у жачетьпг теориЩьЮжрЯятносуеЖ уЛЗикЩтинЮ )ирилла СБяХславо,ица. Аля этого потребуегсюьпрпбешать(хуи птмстейши? зБЫачи к суелЯть 2-ШЛрЯТчетныщ завЮния. Я(сажлаю ,уПД\n",
      "5: г, ДьячЛов 4ауим, из гттпз: 23Ь81_6, вжамжжно вкоро получу зачет по теорииьЮжроятнойтеК у ПикЩтина )имилйа ряяХславо,ица. Для этого потржбуетсю прогешать эти простейшие задачи и(сдеЪЯть 2-3 расчетных задЮния. Я(саелаю эгП!\n",
      "6: Я, Дьячков 4адим,_из групзы_23581_6, воаможсж сломо!полу№у зачеУ по темрииьЮжрЯятнойтей у НикЩтина )ирилла СяяХславовичаб Для этого потребуетсю пробешать эти птПстейшие зпдачи и сделАть 2-3 равчетных жадЮния. Я(саелаю эгП!\n",
      "7: Я, Дьячков Вадим,_из групзы 23581_4, воШмжжно скоро полу№у зачет по теории Южроятнойтей у НикЩтина Кирилла Вячеславовица. Для_этого потребуетсю пробешать эти прПстейшие задачи и сделЯть 2-3 расчетных задания. а саелаю эгП!\n",
      "8: Я, Дьячтов 4адим,_из групзы А3581_4, воШмжжно сломо полу№у зачет по теории ЮжрЯятнойтей у Никитина Кирелла бяяеславовица. Аля этого аотребуетсю пробешать эти прПстейшие задачи и сделать 2-3 расчетных задания. Я сделаю это!\n",
      "9: Я, Дьячтов Вадим, из групз: 23581_4, возмжжно скоро получу зачет по теории верЯятностей у Никитина Кирилла бячеславовица. Для этого потребуеося прорешать эти прПстейшие задачи и сделать 2-3 расчетных задания. Я саелаю это!\n",
      "10: Я, Дьячтов Вадим, из группы А3501_4, возможно скорЯ полу№у зачет по теории верЯятнойУей у Никитина Кирилла бяяеславовича. Аля этого потребуется прорешать эти прПстейшие задачи и сделать 2-3 расчетных задания. Я сделаю это!\n",
      "11: Я, Дьячтов Вадим, из групп: 23501_4, возможно скорЯ получу зачет по теории вероятностей у Никитина Кирилла Вячеславовича. Аля этого потребуется прорешать эти простейшие задачи и сделать 2-3 расчетных задания. Я сделаю это!\n",
      "12: Я, Дьячков Вадим, из группы 23501_4, возможно скорЯ получу зачет по теории вероятносУей у Никитина Кирилла Вячеславовича. Аля этого потребуется прорешать эти простейшие задачи и сделать 2-3 расчетных задания. Я сделаю это!\n",
      "13: Я, Дьячтов Вадим, из группы 23501_4, возможно скоро получу зачет по теории вероятностей у Никитина Кирилла Вячеславовича. Аля этого потребуется прорешать эти простейшие задачи и сделать 2-3 расчетных задания. Я сделаю это!\n",
      "14: Я, Дьячтов Вадим, из группы 23501_4, возможно скоро получу зачет по теории вероятностей у Никитина Кирилла Вяяеславовича. Аля этого потребуется прорешать эти простейшие задачи и сделать 2-3 расчетных задания. Я сделаю это!\n",
      "15: Я, Дьячтов Вадим, из группы 23501_4, возможно скоро получу зачет по теории вероятностей у Никитина Кирилла Вячеславовича. Аля этого потребуется прорешать эти простейшие задачи и сделать 2-3 расчетных задания. Я сделаю это!\n",
      "16: Я, Дьячтов Вадим, из группы 23501_4, возможно скоро получу зачет по теории вероятностей у Никитина Кирилла Вяяеславовича. Аля этого потребуется прорешать эти простейшие задачи и сделать 2-3 расчетных задания. Я сделаю это!\n",
      "17: Я, Дьячтов Вадим, из группы 23501_4, возможно скоро получу зачет по теории вероятностей у Никитина Кирилла Вячеславовича. Для этого потребуется прорешать эти простейшие задачи и сделать 2-3 расчетных задания. Я сделаю это!\n",
      "18: Я, Дьячтов Вадим, из группы 23501_4, возможно скоро получу зачет по теории вероятностей у Никитина Кирилла Вячеславовича. Для этого потребуется прорешать эти простейшие задачи и сделать 2-3 расчетных задания. Я сделаю это!\n"
     ]
    }
   ],
   "source": [
    "for i in range(m):\n",
    "    print(i + 1, end=': ')\n",
    "    for j in range(s):\n",
    "        max_char = find_max(chars[i][j])\n",
    "        print(max_char, end='')\n",
    "    print()\n"
   ]
  },
  {
   "cell_type": "code",
   "execution_count": 21,
   "metadata": {
    "scrolled": true
   },
   "outputs": [],
   "source": [
    "import matplotlib.pyplot as plt\n",
    "from matplotlib import rc\n",
    "\n",
    "font = {'family': 'Arial', 'weight': 'normal'}\n",
    "rc('font', **font)\n",
    "\n",
    "for i in range(m):  # для каждого сообщения\n",
    "    char_num = 7\n",
    "    curr = chars[i][char_num]\n",
    "\n",
    "    sorted_keys = get_sorted_keys()\n",
    "    sorted_values = []\n",
    "    for key in sorted_keys:\n",
    "        sorted_values.append(curr[key])\n",
    "\n",
    "    fig = plt.figure(figsize=(11, 7))\n",
    "    plt.bar(range(len(alphabet)), sorted_values, align='center')\n",
    "    plt.xticks(range(len(curr)), sorted_keys)\n",
    "    plt.xlabel('$x$', fontsize=20, labelpad=20)\n",
    "    plt.ylabel('$P(x)$', fontsize=20, labelpad=20)\n",
    "    plt.tick_params(labelsize=9, pad=10)\n",
    "    plt.title('Распределение вероятностей {0}-ой буквы сообщения после {1}-ой посылки'.format(char_num, i + 1), fontsize=15)\n",
    "    plt.tight_layout()\n",
    "    plt.xlim([0, len(curr)])\n",
    "    plt.ylim([0, 1])\n",
    "    plt.tight_layout()\n",
    "    #plt.savefig('./pics/uniform{i}.png'.format(i=i+1))\n",
    "    #plt.show()\n",
    "    plt.close(fig)\n"
   ]
  },
  {
   "cell_type": "markdown",
   "metadata": {},
   "source": [
    "##### Вероятности задаются исходя из частоты встречания букв в русском языке"
   ]
  },
  {
   "cell_type": "code",
   "execution_count": 22,
   "metadata": {},
   "outputs": [
    {
     "name": "stdout",
     "output_type": "stream",
     "text": [
      "{'у': 2.9, 'х': 0.92, 'ч': 1.27, 'ф': 0.4, 'и': 7.45, 'г': 1.41, 'п': 3.35, 'щ': 0.49, 'а': 8.66, 'ш': 0.77, 'о': 9.28, 'з': 1.81, 'ь': 1.9, 'л': 4.32, 'ц': 0.52, 'т': 6.3, 'д': 2.56, 'с': 5.45, 'в': 4.19, 'ж': 0.78, 'й': 1.31, 'ё': 0.14, 'ъ': 0.04, 'э': 0.17, 'б': 1.51, 'ы': 2.11, 'м': 3.29, 'я': 2.22, 'н': 6.35, 'ю': 1.03, 'е': 8.1, 'р': 5.53, 'к': 3.47}\n"
     ]
    }
   ],
   "source": [
    "with open('frequencies.txt', encoding='utf8') as f:\n",
    "    content = f.readlines()\n",
    "    frequncies = {}\n",
    "    content = [x.rstrip().split('\\t') for x in content] \n",
    "    for pair in content:\n",
    "        frequncies[pair[0]] = float(pair[1])\n",
    "        \n",
    "print(frequncies)\n"
   ]
  },
  {
   "cell_type": "code",
   "execution_count": 23,
   "metadata": {
    "collapsed": true
   },
   "outputs": [],
   "source": [
    "def get_frequency(char: str):\n",
    "    assert len(char) == 1\n",
    "    char = char.lower()\n",
    "    if char in frequncies.keys():\n",
    "        return len(frequncies) * priori[char] * frequncies[char] / sum(frequncies.values())\n",
    "    else:\n",
    "        return priori[char]\n"
   ]
  },
  {
   "cell_type": "code",
   "execution_count": 24,
   "metadata": {},
   "outputs": [
    {
     "name": "stdout",
     "output_type": "stream",
     "text": [
      "{'у': 0.010999999999999998, '6': 0.011494252873563218, 'Т': 0.023896551724137925, '№': 0.011494252873563218, 'ь': 0.007206896551724136, '4': 0.011494252873563218, '9': 0.011494252873563218, '1': 0.011494252873563218, 'л': 0.016386206896551722, 'Д': 0.009710344827586205, 'Н': 0.024086206896551717, 'И': 0.028258620689655168, 'в': 0.01589310344827586, '7': 0.011494252873563218, 'О': 0.03519999999999999, 'Ч': 0.004817241379310344, 'Я': 0.008420689655172413, 'ы': 0.008003448275862067, ' ': 0.011494252873563218, '(': 0.011494252873563218, 'Р': 0.020975862068965512, 'е': 0.030724137931034474, 'А': 0.03284827586206896, 'ч': 0.004817241379310344, 'Ю': 0.003906896551724137, 'Ц': 0.001972413793103448, 'г': 0.005348275862068964, '!': 0.011494252873563218, 'С': 0.02067241379310344, 'У': 0.010999999999999998, 'Б': 0.00572758620689655, 'З': 0.006865517241379309, 'а': 0.03284827586206896, 'п': 0.012706896551724137, 'ж': 0.0029586206896551723, 'Е': 0.030724137931034474, 'ш': 0.0029206896551724135, 'ю': 0.003906896551724137, 'б': 0.00572758620689655, 'В': 0.01589310344827586, 'и': 0.028258620689655168, 'Ё': 0.0005310344827586206, 'к': 0.01316206896551724, 'Э': 0.0006448275862068964, 'Ф': 0.0015172413793103445, 'Ж': 0.0029586206896551723, 'П': 0.012706896551724137, 'Ъ': 0.00015172413793103446, 'Х': 0.0034896551724137924, '5': 0.011494252873563218, '_': 0.011494252873563218, 'К': 0.01316206896551724, 'з': 0.006865517241379309, '3': 0.011494252873563218, 'т': 0.023896551724137925, 'ф': 0.0015172413793103445, 'Ы': 0.008003448275862067, ')': 0.011494252873563218, 'э': 0.0006448275862068964, 'Щ': 0.0018586206896551722, 'м': 0.012479310344827584, 'н': 0.024086206896551717, ':': 0.011494252873563218, 'Ь': 0.007206896551724136, 'Л': 0.016386206896551722, '0': 0.011494252873563218, 'Ш': 0.0029206896551724135, 'х': 0.0034896551724137924, 'щ': 0.0018586206896551722, 'Г': 0.005348275862068964, '-': 0.011494252873563218, '?': 0.011494252873563218, 'о': 0.03519999999999999, '8': 0.011494252873563218, 'д': 0.009710344827586205, 'с': 0.02067241379310344, 'М': 0.012479310344827584, 'й': 0.004968965517241379, 'ё': 0.0005310344827586206, ',': 0.011494252873563218, 'ъ': 0.00015172413793103446, 'ц': 0.001972413793103448, 'Й': 0.004968965517241379, 'я': 0.008420689655172413, '.': 0.011494252873563218, '2': 0.011494252873563218, 'р': 0.020975862068965512}\n",
      "Sum = 0.9999999999999997\n"
     ]
    }
   ],
   "source": [
    "priori_weight = priori.copy()\n",
    "for key in priori_weight.keys():\n",
    "    priori_weight[key] = get_frequency(key)\n",
    "    \n",
    "print(priori_weight)\n",
    "print('Sum = ' + str(sum(priori_weight.values())))\n"
   ]
  },
  {
   "cell_type": "code",
   "execution_count": 25,
   "metadata": {
    "collapsed": true
   },
   "outputs": [],
   "source": [
    "chars_weight = []  # вероятности появления каждого j-ого символа после i-ого сообщения\n",
    "entropies_weight = []  # значения энтропий каждого j-ого символа после i-ого сообщения\n",
    "infos_weight = []  # значения кол-ва информации об j-ом символе после i-ого сообщения\n",
    "\n",
    "char_array = []  # инициализируем априорными вероятностями\n",
    "for j in range(s):\n",
    "    char = priori_weight.copy()\n",
    "    char_array.append(char)\n",
    "chars_weight.append(char_array)\n",
    "\n",
    "for i in range(m):  # для каждого сообщения\n",
    "\n",
    "    entropies_array = []\n",
    "    info_array = []\n",
    "\n",
    "    for j in range(s):  # для каждой буквы в сообщении\n",
    "        entropies_array.append(find_entropy(chars_weight[i][j]))\n",
    "        info_array.append(find_info(chars_weight[i][j], messages[i][j]))\n",
    "        chars_weight[i][j] = find_posterior_probs(chars_weight[i][j], messages[i][j])\n",
    "\n",
    "    entropies_weight.append(entropies_array)\n",
    "    infos_weight.append(info_array)\n",
    "\n",
    "    if i != m - 1:  # априорное для следующего = постериорное для текущего\n",
    "        char_array = []\n",
    "        for j in range(s):\n",
    "            char = chars_weight[i][j].copy()\n",
    "            char_array.append(char)\n",
    "        chars_weight.append(char_array)\n"
   ]
  },
  {
   "cell_type": "code",
   "execution_count": 26,
   "metadata": {},
   "outputs": [
    {
     "name": "stdout",
     "output_type": "stream",
     "text": [
      "1: 8:ЛДь9чимв 4зЕирТПизьдпПзо:_235_1е Т воаНН_пк вкАНпыпЯлдчт_заяит пЯ геНоиб(вевЯчтаосиие_уЗНититиса СирелЬаМр3ч1ТзаЬо,тча. Ял!Л:тогЯ(ЯоПсебмеЯТ! проСииат6(хУикРммвкеи0Ко ззЬа:и(и?ннелЯр. А№Ч(рЯсяерн7х када-_2!кА(и3елаА 9дЗ.\n",
      "2: А:ЛА6э3инв ВаЕХр)_изЛдОоозЕ_275А9_ :ЛвоШНо_но виоНаАпАлл№т за!ет по№теооии вето№тноТЕеЖИуЛНетиоиса )иреллаЛТ3:еТИаво,очаВ Ал!Л:тоДо ооореиоеоТ! проре4ат! -текОоовтеи.ио зова:и иеОоелЯт! А-еЛрЯТяетнИх еадАееА!та и3елаю ,тП,\n",
      "3: !, Дь,чЛмв 4ауим, изшгттпз:_23Ь85Зь, вЧаможно вкорпьпЯлучт еачет по№георииьверЯятнойтеЖМуЛЗеЫитиса (имикла рЕяЦсзавовича. Азя ,тоДо потрертегс: пробе4ать хти птмвтеифие зРдпчи к(суелЯть 2-ШЛрЯсчетн7х оадания. Я(саелаю ,дП.\n",
      "4: гЕ(Д!ячЛов Вауим: ил Ыттпз:_23584_6, вЧамжжно влоро полу№т зачет по теории вероятностеК уЛПекЩтина Кирилла ряяХсИавовича, АляЛ,тоДо потреитетс! проте4ат6 хти птостейшие задачи и(сселАть 2-3ЛраТчетн7х завания. а саелаю ,тПВ\n",
      "5: г, ДьячЛов 4ауим, из гттпз: 23Ь81_6, воаможно вкоро получу зачет по теорииьЮероятнойтеК у Пикитина )имилйа ряяеславовица. Для ,того потребуетсю прогешать хти простеишие задачи и(сделЯть 2-3 расчетных задания. Я(саелаю ,гП!\n",
      "6: Я, ДьячЛов Вауим,_из гттпз:_23581_6, воаножно слоро!полу№у зачет по теории(ЮероятнойтеК у Никитина Кирелла ряяеславовичаВ Для этого потребуетсю проиешать эти птостейшие задачи и(сделать 2-3 расчетных задания. а саелаю этП!\n",
      "7: Я, Дьячков Вадим,_из групзы 23581_4, воаможно скоро полу№у зачет по теории Юероятнойтей у Никитина Кирилла Вячеславовица. Для_этого потребуетсю пробешать эти прПстейшие задачи и сделЯть 2-3 расчетных задания. а саелаю эгП!\n",
      "8: Я, Дьячтов Вадим,_из групз: А3581_4, возмжжно слоро полу№у зачет по теории вероятностей у Никитина Кирелла Вяяеславовица. Аля этого аотребуеося прорешать эти простейшие задачи и(сделать 2-3 расчетных задания. а саелаю это!\n",
      "9: Я, Дьячтов Вадим, из групз: 23581_4, возможно скоро получу зачет по теории верЯятностей у Никитина Кирилла бячеславовица. Для этого потребуеося прорешать эти прПстейшие задачи и сделать 2-3 расчетных задания. Я саелаю это!\n",
      "10: Я, Дьячтов Вадим, из групп: А3501_4, возможно скоро полу№у зачет по теории вероятностей у Никитина Кирилла Вяяеславовича. Аля этого потребуеося прорешать эти простейшие задачи и сделать 2-3 расчетных задания. Я саелаю это!\n",
      "11: Я, Дьячтов Вадим, из групп: 23501_4, возможно скорЯ получу зачет по теории вероятностей у Никитина Кирилла Вячеславовича. Аля этого потребуется прорешать эти простейшие задачи и сделать 2-3 расчетных задания. Я сделаю это!\n",
      "12: Я, Дьячтов Вадим, из групп: 23501_4, возможно скоро получу зачет по теории вероятностей у Никитина Кирилла Вячеславовича. Аля этого потребуется прорешать эти простейшие задачи и сделать 2-3 расчетных задания. Я саелаю это!\n",
      "13: Я, Дьячтов Вадим, из группы 23501_4, возможно скоро получу зачет по теории вероятностей у Никитина Кирилла Вячеславовича. Аля этого потребуется прорешать эти простейшие задачи и сделать 2-3 расчетных задания. Я сделаю это!\n",
      "14: Я, Дьячтов Вадим, из группы 23501_4, возможно скоро получу зачет по теории вероятностей у Никитина Кирилла Вяяеславовича. Аля этого потребуется прорешать эти простейшие задачи и сделать 2-3 расчетных задания. Я сделаю это!\n",
      "15: Я, Дьячтов Вадим, из группы 23501_4, возможно скоро получу зачет по теории вероятностей у Никитина Кирилла Вячеславовича. Аля этого потребуется прорешать эти простейшие задачи и сделать 2-3 расчетных задания. Я сделаю это!\n",
      "16: Я, Дьячтов Вадим, из группы 23501_4, возможно скоро получу зачет по теории вероятностей у Никитина Кирилла Вяяеславовича. Аля этого потребуется прорешать эти простейшие задачи и сделать 2-3 расчетных задания. Я сделаю это!\n",
      "17: Я, Дьячтов Вадим, из группы 23501_4, возможно скоро получу зачет по теории вероятностей у Никитина Кирилла Вячеславовича. Для этого потребуется прорешать эти простейшие задачи и сделать 2-3 расчетных задания. Я сделаю это!\n",
      "18: Я, Дьячтов Вадим, из группы 23501_4, возможно скоро получу зачет по теории вероятностей у Никитина Кирилла Вячеславовича. Для этого потребуется прорешать эти простейшие задачи и сделать 2-3 расчетных задания. Я сделаю это!\n"
     ]
    }
   ],
   "source": [
    "for i in range(m):\n",
    "    print(i + 1, end=': ')\n",
    "    for j in range(s):\n",
    "        max_char = find_max(chars_weight[i][j])\n",
    "        print(max_char, end='')\n",
    "    print()\n"
   ]
  },
  {
   "cell_type": "code",
   "execution_count": 27,
   "metadata": {},
   "outputs": [],
   "source": [
    "for i in range(m):  # для каждого сообщения\n",
    "    char_num = 7\n",
    "    curr = chars_weight[i][char_num]\n",
    "\n",
    "    sorted_keys = get_sorted_keys()\n",
    "    sorted_values = []\n",
    "    for key in sorted_keys:\n",
    "        sorted_values.append(curr[key])\n",
    "\n",
    "    fig = plt.figure(figsize=(11, 7))\n",
    "    plt.bar(range(len(alphabet)), sorted_values, align='center')\n",
    "    plt.xticks(range(len(curr)), sorted_keys)\n",
    "    plt.xlabel('$x$', fontsize=20, labelpad=20)\n",
    "    plt.ylabel('$P(x)$', fontsize=20, labelpad=20)\n",
    "    plt.tick_params(labelsize=9, pad=10)\n",
    "    plt.title('Распределение вероятностей {0}-ой буквы сообщения после {1}-ой посылки'.format(char_num, i + 1), fontsize=15)\n",
    "    plt.tight_layout()\n",
    "    plt.xlim([0, len(curr)])\n",
    "    plt.ylim([0, 1])\n",
    "    plt.tight_layout()\n",
    "    #plt.savefig('./pics/weight{i}.png'.format(i=i+1))\n",
    "    #plt.show()\n",
    "    plt.close(fig)\n"
   ]
  },
  {
   "cell_type": "markdown",
   "metadata": {},
   "source": [
    "Из результатов видно, что в ситуации, когда вероятности задаются ихсодя из частоты встречания букв в русском языке, зашумленное сообщение было распознано немного быстрее."
   ]
  },
  {
   "cell_type": "markdown",
   "metadata": {},
   "source": [
    "#### 1.2. Расчет энтропии и количества информации"
   ]
  },
  {
   "cell_type": "code",
   "execution_count": 28,
   "metadata": {},
   "outputs": [
    {
     "data": {
      "image/png": "[encoded data removed]",
      "text/plain": [
       "<matplotlib.figure.Figure at 0x1741bb52b70>"
      ]
     },
     "metadata": {},
     "output_type": "display_data"
    }
   ],
   "source": [
    "x = range(1, m+1)\n",
    "h_u = []\n",
    "h_w = []\n",
    "\n",
    "for i in range(m):\n",
    "    char_num = 7\n",
    "    h_u.append(entropies[i][char_num])\n",
    "    h_w.append(entropies_weight[i][char_num])\n",
    "    \n",
    "fig = plt.figure(figsize=(11,7))\n",
    "plt.plot(x, h_u, marker='s', label='Равновероятное')\n",
    "plt.plot(x, h_w, marker='s', label='Взвешенное')\n",
    "plt.legend(fontsize=15)\n",
    "plt.xlabel('Номер сообщения', fontsize=15)\n",
    "plt.ylabel('$H(x)$', fontsize=20)\n",
    "plt.tick_params(labelsize=15, pad=10)\n",
    "plt.title('Энтропия {0}-ой буквы сообщения'.format(char_num, i + 1), fontsize=20)\n",
    "plt.tight_layout()\n",
    "#plt.savefig('./pics/entropy.png')\n",
    "plt.show()\n",
    "plt.close()\n"
   ]
  },
  {
   "cell_type": "code",
   "execution_count": 29,
   "metadata": {},
   "outputs": [
    {
     "data": {
      "image/png": "[encoded data removed]",
      "text/plain": [
       "<matplotlib.figure.Figure at 0x1741bb52198>"
      ]
     },
     "metadata": {},
     "output_type": "display_data"
    }
   ],
   "source": [
    "x = range(1, m+1)\n",
    "i_u = []\n",
    "i_w = []\n",
    "\n",
    "for i in range(m):\n",
    "    char_num = 7\n",
    "    i_u.append(infos[i][char_num])\n",
    "    i_w.append(infos_weight[i][char_num])\n",
    "    \n",
    "fig = plt.figure(figsize=(11,7))\n",
    "plt.plot(x, i_u, marker='s', label='Равновероятное')\n",
    "plt.plot(x, i_w, marker='s', label='Взвешенное')\n",
    "plt.legend(fontsize=15, loc='upper left')\n",
    "plt.xlabel('Номер сообщения', fontsize=15)\n",
    "plt.ylabel('$I(x)$', fontsize=20)\n",
    "plt.tick_params(labelsize=15, pad=10)\n",
    "plt.title('Количество информации о {0}-ой букве сообщения'.format(char_num, i + 1), fontsize=20)\n",
    "plt.tight_layout()\n",
    "#plt.savefig('./pics/entropy.png')\n",
    "plt.show()\n",
    "plt.close()\n"
   ]
  },
  {
   "cell_type": "markdown",
   "metadata": {},
   "source": [
    "Средняя условная энтропия $H(X|Y)$ и среднее количество информации $I(X|Y)$: "
   ]
  },
  {
   "cell_type": "code",
   "execution_count": 30,
   "metadata": {},
   "outputs": [
    {
     "name": "stdout",
     "output_type": "stream",
     "text": [
      "H_uniform(X|Y) = 0.8728399821050157\n",
      "I_uniform(X|Y) = 0.07398590960661323\n",
      "H_weighted(X|Y) = 1.309971034046048\n",
      "I_weighted(X|Y) = 0.40485744000958623\n"
     ]
    }
   ],
   "source": [
    "char_num = 0\n",
    "\n",
    "msgs = []\n",
    "for i in range(m):\n",
    "    msgs.append(messages[i][char_num])\n",
    "\n",
    "print('H_uniform(X|Y) = {h}'.format(h=find_avg_entropy(priori, msgs)))\n",
    "print('I_uniform(X|Y) = {i}'.format(i=find_avg_info(priori, msgs)))\n",
    "print('H_weighted(X|Y) = {h}'.format(h=find_avg_entropy(priori_weight, msgs)))\n",
    "print('I_weighted(X|Y) = {i}'.format(i=find_avg_info(priori_weight, msgs)))"
   ]
  }
 ],
 "metadata": {
  "kernelspec": {
   "display_name": "Python 3",
   "language": "python",
   "name": "python3"
  },
  "language_info": {
   "codemirror_mode": {
    "name": "ipython",
    "version": 3
   },
   "file_extension": ".py",
   "mimetype": "text/x-python",
   "name": "python",
   "nbconvert_exporter": "python",
   "pygments_lexer": "ipython3",
   "version": "3.5.2"
  }
 },
 "nbformat": 4,
 "nbformat_minor": 1
}
