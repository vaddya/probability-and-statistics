{
 "cells": [
  {
   "cell_type": "markdown",
   "metadata": {},
   "source": [
    "# Идентификация сообщений, передаваемых по зашумленному каналу связи"
   ]
  },
  {
   "cell_type": "markdown",
   "metadata": {},
   "source": [
    "# 1. Последовательная передача одинаковых сообщений"
   ]
  },
  {
   "cell_type": "markdown",
   "metadata": {},
   "source": [
    "## 1.1. Определение переданного сообщения"
   ]
  },
  {
   "cell_type": "markdown",
   "metadata": {},
   "source": [
    "### Исходный алфавит"
   ]
  },
  {
   "cell_type": "code",
   "execution_count": 1,
   "metadata": {},
   "outputs": [],
   "source": [
    "def get_alphabet(filename):\n",
    "    \"\"\"Считать алфавит из файла\"\"\"\n",
    "    alphabet = {}\n",
    "    with open(filename, encoding='utf8') as f:\n",
    "        content = [x.rstrip().split('\\t') for x in f.readlines()]\n",
    "        alphabet = {pair[0]: pair[1] for pair in content}\n",
    "    return alphabet\n",
    "\n",
    "\n",
    "def get_char(alphabet: dict, code: str):\n",
    "    \"\"\"Найти символ по его двоичному коду\"\"\"\n",
    "    for key, value in alphabet.items():\n",
    "        if value == code:\n",
    "            return key\n",
    "\n",
    "\n",
    "def get_sorted_keys(alphabet: dict):\n",
    "    \"\"\"Получить алфавит, отсортированный по двоичному коду символов\"\"\"\n",
    "    return [get_char(alphabet, value) for value in sorted(alphabet.values())]\n"
   ]
  },
  {
   "cell_type": "code",
   "execution_count": 2,
   "metadata": {},
   "outputs": [
    {
     "name": "stdout",
     "output_type": "stream",
     "text": [
      "{'0': '0000000', '1': '0000001', '2': '0000010', '3': '0000011', '4': '0000100', '5': '0000101', '6': '0000110', '7': '0000111', '8': '0001000', '9': '0001001', 'А': '0001010', 'Б': '0001011', 'В': '0001100', 'Г': '0001101', 'Д': '0001110', 'Е': '0001111', 'Ё': '0010000', 'Ж': '0010001', 'З': '0010010', 'И': '0010011', 'Й': '0010100', 'К': '0010101', 'Л': '0010110', 'М': '0010111', 'Н': '0011000', 'О': '0011001', 'П': '0011010', 'Р': '0011011', 'С': '0011100', 'Т': '0011101', 'У': '0011110', 'Ф': '0011111', 'Х': '0100000', 'Ц': '0100001', 'Ч': '0100010', 'Ш': '0100011', 'Щ': '0100100', 'Ь': '0100101', 'Ы': '0100110', 'Ъ': '0100111', 'Э': '0101000', 'Ю': '0101001', 'Я': '0101010', 'а': '0101011', 'б': '0101100', 'в': '0101101', 'г': '0101110', 'д': '0101111', 'е': '0110000', 'ё': '0110001', 'ж': '0110010', 'з': '0110011', 'и': '0110100', 'й': '0110101', 'к': '0110110', 'л': '0110111', 'м': '0111000', 'н': '0111001', 'о': '0111010', 'п': '0111011', 'р': '0111100', 'с': '0111101', 'т': '0111110', 'у': '0111111', 'ф': '1000000', 'х': '1000001', 'ц': '1000010', 'ч': '1000011', 'ш': '1000100', 'щ': '1000101', 'ь': '1000110', 'ы': '1000111', 'ъ': '1001000', 'э': '1001001', 'ю': '1001010', 'я': '1001011', '.': '1001100', ',': '1001101', '!': '1001110', ':': '1001111', '?': '1010000', '-': '1010001', '_': '1010010', '№': '1010011', '(': '1010100', ')': '1010101', ' ': '1010110'}\n"
     ]
    }
   ],
   "source": [
    "alph = get_alphabet('alphabet.txt')\n",
    "print(alph)"
   ]
  },
  {
   "cell_type": "markdown",
   "metadata": {},
   "source": [
    "Словарь априорных вероятностей:"
   ]
  },
  {
   "cell_type": "code",
   "execution_count": 3,
   "metadata": {},
   "outputs": [],
   "source": [
    "n = len(alph)\n",
    "p = 1 / n\n",
    "priori = {char: p for char in alph}\n"
   ]
  },
  {
   "cell_type": "markdown",
   "metadata": {},
   "source": [
    "Функция, находящая максимальное значение в словаре"
   ]
  },
  {
   "cell_type": "code",
   "execution_count": 4,
   "metadata": {
    "collapsed": true
   },
   "outputs": [],
   "source": [
    "def find_max(d: dict):\n",
    "    \"\"\"Найти в словаре ключ с максимальным значением\"\"\"\n",
    "    return max(d, key=d.get)\n"
   ]
  },
  {
   "cell_type": "markdown",
   "metadata": {},
   "source": [
    "### Входные данные"
   ]
  },
  {
   "cell_type": "code",
   "execution_count": 5,
   "metadata": {
    "collapsed": true
   },
   "outputs": [],
   "source": [
    "with open('input.txt', encoding='utf8') as f:\n",
    "    content = f.readlines()\n"
   ]
  },
  {
   "cell_type": "markdown",
   "metadata": {},
   "source": [
    "Колличество букв в каждом сообщении равно $s$:"
   ]
  },
  {
   "cell_type": "code",
   "execution_count": 6,
   "metadata": {},
   "outputs": [
    {
     "name": "stdout",
     "output_type": "stream",
     "text": [
      "s = 222\n"
     ]
    }
   ],
   "source": [
    "s = int(content[0].split(': ')[1])\n",
    "print('s = {s}'.format(s=s))\n"
   ]
  },
  {
   "cell_type": "markdown",
   "metadata": {},
   "source": [
    "Вероятность искажения каждого отдельного символа (бита) равна $q$, вероятность правильной передачи $p = 1 - q$:"
   ]
  },
  {
   "cell_type": "code",
   "execution_count": 7,
   "metadata": {},
   "outputs": [
    {
     "name": "stdout",
     "output_type": "stream",
     "text": [
      "p = 0.832, q = 0.168\n"
     ]
    }
   ],
   "source": [
    "q = float(content[2].split(': ')[1])\n",
    "p = 1 - q\n",
    "print('p = {p}, q = {q}'.format(p=p, q=q))\n"
   ]
  },
  {
   "cell_type": "markdown",
   "metadata": {},
   "source": [
    "Колличествно сообщений (посылок) равно $m$:"
   ]
  },
  {
   "cell_type": "code",
   "execution_count": 8,
   "metadata": {},
   "outputs": [
    {
     "name": "stdout",
     "output_type": "stream",
     "text": [
      "m = 18\n"
     ]
    }
   ],
   "source": [
    "m = int(content[3].split(': ')[1])\n",
    "print('m = {m}'.format(m=m))\n"
   ]
  },
  {
   "cell_type": "code",
   "execution_count": 9,
   "metadata": {
    "collapsed": true
   },
   "outputs": [],
   "source": [
    "char_num = 7 # номер буквы, которую будем исследовать в заданиях 1.2 и 2.2"
   ]
  },
  {
   "cell_type": "markdown",
   "metadata": {},
   "source": [
    "### Функции для работы с вероятностями"
   ]
  },
  {
   "cell_type": "code",
   "execution_count": 10,
   "metadata": {
    "collapsed": true
   },
   "outputs": [],
   "source": [
    "import math\n",
    "\n",
    "q = 0.168\n",
    "\n",
    "def find_prob(x: str, y: str):\n",
    "    \"\"\"Найти вероятность p(y|x)\"\"\"\n",
    "    assert len(x) == len(y)\n",
    "    res = 1\n",
    "    for i in range(len(x)):\n",
    "        res = res * (1 - q if x[i] == y[i] else q)\n",
    "    return res\n",
    "\n",
    "def find_message_prob(x: dict, x_when_y: dict):\n",
    "    \"\"\"Найти вероятность p(y)\"\"\"\n",
    "    res = 0\n",
    "    for char in x_when_y:\n",
    "        res = res + x_when_y[char] * x[char]\n",
    "    return res\n",
    "\n",
    "def find_posterior_probs(alph: dict, x: dict, y: str):\n",
    "    \"\"\"Найти вероятность p(x|y)\"\"\"\n",
    "    x_when_y = alph.copy()\n",
    "    for char in x_when_y.keys():\n",
    "        x_when_y[char] = find_prob(alph[char], y)\n",
    "    prob_y = find_message_prob(x, x_when_y)\n",
    "    x_post = x.copy()\n",
    "    for char in x.keys():\n",
    "        x_post[char] = x_when_y[char] * x[char] / prob_y\n",
    "    return x_post\n",
    "\n",
    "def find_entropy(x: dict):\n",
    "    \"\"\"Найти энтропию H(X)\"\"\"\n",
    "    res = 0\n",
    "    for key, value in x.items():\n",
    "        res = res + value * math.log2(value)\n",
    "    return -res\n",
    "\n",
    "def find_cond_entropy(alph: dict, x: dict, y: str):\n",
    "    \"\"\"Найти условную энтропию H(X|y)\"\"\"\n",
    "    x_when_y = find_posterior_probs(alph, x, y)\n",
    "    res = 0\n",
    "    for key, value in x.items():\n",
    "        res = res + x_when_y[key] * math.log2(x_when_y[key])\n",
    "    return -res\n",
    "\n",
    "def find_avg_entropy(alph: dict, x: dict, y: list):\n",
    "    \"\"\"Найти среднюю условную энтропию H(X|Y)\"\"\"\n",
    "    res = 0\n",
    "    for yi in y:\n",
    "        x_when_y = find_posterior_probs(alph, x, yi)\n",
    "        res = res + find_message_prob(x, x_when_y) * find_cond_entropy(alph, x, yi)\n",
    "    return res\n",
    "\n",
    "def find_info(alph: dict, x: dict, y: str):\n",
    "    \"\"\"Найти количество информации I(X:y)\"\"\"\n",
    "    res = 0\n",
    "    post = find_posterior_probs(alph, x, y)\n",
    "    for char in x.keys():\n",
    "        res = res + post[char] * math.log2(x[char])\n",
    "    return -res - find_cond_entropy(alph, x, y)\n",
    "\n",
    "def find_avg_info(alph: dict, x: dict, y: list):\n",
    "    \"\"\"Найти среднее количество информации I(X:Y)\"\"\"\n",
    "    return find_entropy(x) - find_avg_entropy(alph, x, y)\n"
   ]
  },
  {
   "cell_type": "markdown",
   "metadata": {},
   "source": [
    "### Все символы равновероятны"
   ]
  },
  {
   "cell_type": "code",
   "execution_count": 11,
   "metadata": {
    "collapsed": true
   },
   "outputs": [],
   "source": [
    "messages = []\n",
    "\n",
    "for i in range(m):\n",
    "    codes = content[i + 4].split(': ')[1].rstrip().split(' ')\n",
    "    messages.append(codes)\n"
   ]
  },
  {
   "cell_type": "code",
   "execution_count": 12,
   "metadata": {},
   "outputs": [],
   "source": [
    "chars = []  # вероятности появления каждого j-ого символа после i-ого сообщения\n",
    "entropies = []  # значения энтропий каждого j-ого символа после i-ого сообщения\n",
    "infos = []  # значения кол-ва информации об j-ом символе после i-ого сообщения\n",
    "\n",
    "char_array = [priori.copy() for j in range(s)]  # инициализируем априорными вероятностями\n",
    "chars.append(char_array)\n",
    "\n",
    "for i in range(m):  # для каждого сообщения\n",
    "\n",
    "    entropies_array = []\n",
    "    info_array = []\n",
    "\n",
    "    for j in range(s):  # для каждой буквы в сообщении\n",
    "        entropies_array.append(find_cond_entropy(alph, chars[i][j], messages[i][j]))\n",
    "        info_array.append(find_info(alph, chars[i][j], messages[i][j]))\n",
    "        chars[i][j] = find_posterior_probs(alph, chars[i][j], messages[i][j])\n",
    "\n",
    "    entropies.append(entropies_array)\n",
    "    infos.append(info_array)\n",
    "\n",
    "    if i != m - 1:  # апостериорное для текущего = априорное для следующего\n",
    "        char_array = [chars[i][j].copy() for j in range(s)]\n",
    "        chars.append(char_array)\n"
   ]
  },
  {
   "cell_type": "code",
   "execution_count": 13,
   "metadata": {},
   "outputs": [
    {
     "name": "stdout",
     "output_type": "stream",
     "text": [
      "1: 8:ЛДьэчимв 4зГЩрТПизьдпПзж:ж235ц1Ё Т вжШННжпк вкБНпыпЯлдчт_заяит пЯ гХНоиб(вевЯчтЮосйиёцуЗНитЩтисШ СирелЬаМр3чЦТзШЬо,тча. Ял!ЛФтжгЯ(ЯоПсебмеЯТ! проСйЩат6(ЦУЙкРммвкеифКо ззЬа:и(й?ннелЯр.УА№Ч(рЯсяЁрн7х кадаёж2!кА(и3елаю эдЗ.\n",
      "2: ДэЙА6э3Ймв 4ШФХмчьиШ4ЫРУЖжЕ_23525Зь:ЛвжШмУжнжывиПСа3пАЪЪ№У жЯ!итьпг№тЭммиЩ(вХбочУмЯТкеЖЙуЛЁег4кисШ )Ймел5Ш6СБыХТЖа5Я,ицБ4 АёяЛ,ЫеДо(опПребмЁЯТя прПВе4аУД(фДЁкнННбтеифйн(зЗЬаыи(иЁКуелЧршУ3хХЛбЯТхЁрн3х еадЮЮеА.Л9(р3Хлаю(эгП,\n",
      "3: г, ДьэчЛмв 4ауЩм, изшгттпз:_23Ьъ5Зь, вЧШмжжно вкорпьпЯлучт жачет по№геориЩьвжрЯятнойтеЖМуЛЗеЫЩтисЮ (имикла рБяЦсзавовича. Азя ,тоДо потрертегс: пробе4ать)хти птмвтейфй? зРдпчи к(суелЯть!2-ШЛрЯсчетн7х жадЮния. Я(сБжлаю ,дП.\n",
      "4: г:(ДьячЛов 4адЩм: илшЫртпз:_Ч35ъ4З6, вЧШмжжно вкорп пЭлучт(жачетьпг теориЩ(ЮжрЯчтнойуеЖ уЛЗикЩтина )ирикла СБяХсЖаГПвкча. АзяЛэтоДо потребтегсяьпрогешать(хуи птостейфй? зБЫачи к(сселАть!2-ШЛрасхерныщ жавЮния. Я(с3елаю ,уПВ\n",
      "5: г, ДьячЛов 4ауим, из гттпз: 23Ь81_6, вжамжжно вкоро получу зачет по теорииьЮжроятнойтеК у ПикЩтина )имилйа ряяХславовица. Для этого потржбуетсю прогешать эти простейшие задачи и(сдеЪЯть 2-3 расчетных задЮния. Я(саелаю эгП!\n",
      "6: Я, ДьячЛов 4адим,_из гртпзы_23581_4, воШножнж вкоро!пмлу№у зачеУ по темрии(ЮжрЯятнойтеК у НикЩтина )имикла СяяеслШвПвицаВ Для этого потребуетсю пробешать эти птПстейшие зпдачи и(сделать 2-3 расчетных жадЮния. Я(саелаю этП!\n",
      "7: Я, Дьячков Вадим,_из групзы 23581_4, воШмжжно скоро полу№у зачет по теории Южроятнойтей у НикЩтина Кирилла Вячеславовица. Для_этого потребуетсю пробешать эти прПстейшие задачи и сделЯть 2-3 расчетных задания. а саелаю эгП!\n",
      "8: Я, Дьячков 4адим,_из групзы А3581_4, воШмжжно скоро получу зачет по теории ЮжрЯятнойтей у НикЩтина Кирелла бяяеславовица. Аля этого аотребуется пробешать эти прПстейшие задачи и(сделать 2-3 расчетных жадания. Я сделаю это!\n",
      "9: Я, Дьячтов Вадим, из групз: 23581_4, возмжжно скоро получу зачет по теории верЯятностей у Никитина Кирилла бячеславовица. Для этого потребуеося прорешать эти прПстейшие задачи и сделать!2-3 расчетных задания. Я саелаю это!\n",
      "10: Я, Дьячтов Вадим, из группы А3501_4, возможно скорЯ получу зачет по теории верЯятносУей у Никитина Кирилла бяяеславовица. Аля этого потребуется прорешать эти простейшие задачи и сделать!2-3 расчетных задания. Я сделаю это!\n",
      "11: Я, Дьячтов Вадим, из групп: 23501_4, возможно скорЯ получу зачет по теории вероятностей у Никитина Кирилла Вячеславовича. Аля этого потребуется прорешать эти простейшие задачи и сделать 2-3 расчетных задания. Я сделаю это!\n",
      "12: Я, Дьячтов Вадим, из группы 23501_4, возможно скорЯ получу зачет по теории вероятносУей у Никитина Кирилла Вячеславовича. Аля этого потребуется прорешать эти простейшие задачи и сделать 2-3 расчетных задания. Я сделаю это!\n",
      "13: Я, Дьячтов Вадим, из группы 23501_4, возможно скоро получу зачет по теории вероятностей у Никитина Кирилла Вячеславовича. Аля этого потребуется прорешать эти простейшие задачи и сделать 2-3 расчетных задания. Я сделаю это!\n",
      "14: Я, Дьячтов Вадим, из группы 23501_4, возможно скоро получу зачет по теории вероятностей у Никитина Кирилла Вяяеславовича. Аля этого потребуется прорешать эти простейшие задачи и сделать 2-3 расчетных задания. Я сделаю это!\n",
      "15: Я, Дьячтов Вадим, из группы 23501_4, возможно скоро получу зачет по теории вероятностей у Никитина Кирилла Вячеславовича. Аля этого потребуется прорешать эти простейшие задачи и сделать 2-3 расчетных задания. Я сделаю это!\n",
      "16: Я, Дьячтов Вадим, из группы 23501_4, возможно скоро получу зачет по теории вероятностей у Никитина Кирилла Вяяеславовича. Аля этого потребуется прорешать эти простейшие задачи и сделать 2-3 расчетных задания. Я сделаю это!\n",
      "17: Я, Дьячтов Вадим, из группы 23501_4, возможно скоро получу зачет по теории вероятностей у Никитина Кирилла Вячеславовича. Для этого потребуется прорешать эти простейшие задачи и сделать 2-3 расчетных задания. Я сделаю это!\n",
      "18: Я, Дьячтов Вадим, из группы 23501_4, возможно скоро получу зачет по теории вероятностей у Никитина Кирилла Вячеславовича. Для этого потребуется прорешать эти простейшие задачи и сделать 2-3 расчетных задания. Я сделаю это!\n"
     ]
    }
   ],
   "source": [
    "for i in range(m):\n",
    "    print(i + 1, end=': ')\n",
    "    for j in range(s):\n",
    "        max_char = find_max(chars[i][j])\n",
    "        print(max_char, end='')\n",
    "    print()\n"
   ]
  },
  {
   "cell_type": "code",
   "execution_count": 14,
   "metadata": {
    "scrolled": true
   },
   "outputs": [
    {
     "name": "stderr",
     "output_type": "stream",
     "text": [
      "/usr/local/anaconda3/lib/python3.6/site-packages/matplotlib/font_manager.py:1297: UserWarning: findfont: Font family ['Arial'] not found. Falling back to DejaVu Sans\n",
      "  (prop.get_family(), self.defaultFamily[fontext]))\n"
     ]
    }
   ],
   "source": [
    "import plots\n",
    "\n",
    "for i in range(m):  # для каждого сообщения\n",
    "    curr = chars[i][char_num]\n",
    "\n",
    "    title = 'Распределение вероятностей {0}-ой буквы сообщения после {1}-ой посылки (равновероятные)'.format(char_num, i + 1)\n",
    "    save = './../pics/uniform{0}.png'.format(i + 1)\n",
    "    plots.draw_distribution(get_sorted_keys(alph), curr, title, show=False, save=save)\n"
   ]
  },
  {
   "cell_type": "markdown",
   "metadata": {},
   "source": [
    "### Вероятности задаются исходя из частоты встречания букв в русском языке"
   ]
  },
  {
   "cell_type": "code",
   "execution_count": 15,
   "metadata": {},
   "outputs": [
    {
     "name": "stdout",
     "output_type": "stream",
     "text": [
      "{'а': 8.66, 'б': 1.51, 'в': 4.19, 'г': 1.41, 'д': 2.56, 'е': 8.1, 'ё': 0.14, 'ж': 0.78, 'з': 1.81, 'и': 7.45, 'й': 1.31, 'к': 3.47, 'л': 4.32, 'м': 3.29, 'н': 6.35, 'о': 9.28, 'п': 3.35, 'р': 5.53, 'с': 5.45, 'т': 6.3, 'у': 2.9, 'ф': 0.4, 'х': 0.92, 'ц': 0.52, 'ч': 1.27, 'ш': 0.77, 'щ': 0.49, 'ъ': 0.04, 'ы': 2.11, 'ь': 1.9, 'э': 0.17, 'ю': 1.03, 'я': 2.22}\n"
     ]
    }
   ],
   "source": [
    "with open('frequencies.txt', encoding='utf8') as f:\n",
    "    content = [x.rstrip().split('\\t') for x in f.readlines()]\n",
    "    frequncies = {pair[0]: float(pair[1]) for pair in content}\n",
    "        \n",
    "print(frequncies)\n"
   ]
  },
  {
   "cell_type": "code",
   "execution_count": 16,
   "metadata": {
    "collapsed": true
   },
   "outputs": [],
   "source": [
    "def get_frequency(char: str):\n",
    "    \"\"\"Получить вероятноость встречания символа\"\"\"\n",
    "    assert len(char) == 1\n",
    "    char = char.lower()\n",
    "    if char in frequncies:\n",
    "        return len(frequncies) * priori[char] * frequncies[char] / sum(frequncies.values())\n",
    "    else:\n",
    "        return priori[char]\n"
   ]
  },
  {
   "cell_type": "code",
   "execution_count": 17,
   "metadata": {},
   "outputs": [
    {
     "name": "stdout",
     "output_type": "stream",
     "text": [
      "p('0') = 0.011,\tp('1') = 0.011,\tp('2') = 0.011,\tp('3') = 0.011,\tp('4') = 0.011,\tp('5') = 0.011,\tp('6') = 0.011,\tp('7') = 0.011,\tp('8') = 0.011,\tp('9') = 0.011,\tp('А') = 0.033,\tp('Б') = 0.006,\tp('В') = 0.016,\tp('Г') = 0.005,\tp('Д') = 0.010,\tp('Е') = 0.031,\tp('Ё') = 0.001,\tp('Ж') = 0.003,\tp('З') = 0.007,\tp('И') = 0.028,\tp('Й') = 0.005,\tp('К') = 0.013,\tp('Л') = 0.016,\tp('М') = 0.012,\tp('Н') = 0.024,\tp('О') = 0.035,\tp('П') = 0.013,\tp('Р') = 0.021,\tp('С') = 0.021,\tp('Т') = 0.024,\tp('У') = 0.011,\tp('Ф') = 0.002,\tp('Х') = 0.003,\tp('Ц') = 0.002,\tp('Ч') = 0.005,\tp('Ш') = 0.003,\tp('Щ') = 0.002,\tp('Ь') = 0.007,\tp('Ы') = 0.008,\tp('Ъ') = 0.000,\tp('Э') = 0.001,\tp('Ю') = 0.004,\tp('Я') = 0.008,\tp('а') = 0.033,\tp('б') = 0.006,\tp('в') = 0.016,\tp('г') = 0.005,\tp('д') = 0.010,\tp('е') = 0.031,\tp('ё') = 0.001,\tp('ж') = 0.003,\tp('з') = 0.007,\tp('и') = 0.028,\tp('й') = 0.005,\tp('к') = 0.013,\tp('л') = 0.016,\tp('м') = 0.012,\tp('н') = 0.024,\tp('о') = 0.035,\tp('п') = 0.013,\tp('р') = 0.021,\tp('с') = 0.021,\tp('т') = 0.024,\tp('у') = 0.011,\tp('ф') = 0.002,\tp('х') = 0.003,\tp('ц') = 0.002,\tp('ч') = 0.005,\tp('ш') = 0.003,\tp('щ') = 0.002,\tp('ь') = 0.007,\tp('ы') = 0.008,\tp('ъ') = 0.000,\tp('э') = 0.001,\tp('ю') = 0.004,\tp('я') = 0.008,\tp('.') = 0.011,\tp(',') = 0.011,\tp('!') = 0.011,\tp(':') = 0.011,\tp('?') = 0.011,\tp('-') = 0.011,\tp('_') = 0.011,\tp('№') = 0.011,\tp('(') = 0.011,\tp(')') = 0.011,\tp(' ') = 0.011,\t\n",
      "Sum = 0.9999999999999998\n"
     ]
    }
   ],
   "source": [
    "priori_weight = {key: get_frequency(key) for key in priori}\n",
    "    \n",
    "for key in get_sorted_keys(alph):    \n",
    "    print('p(\\'{0}\\') = {1}'.format(key, '{0:.3f}'.format(priori_weight[key])), end=',\\t')\n",
    "print()\n",
    "print('Sum = ' + str(sum(priori_weight.values()))) # almost == 1\n"
   ]
  },
  {
   "cell_type": "code",
   "execution_count": 18,
   "metadata": {
    "collapsed": true
   },
   "outputs": [],
   "source": [
    "chars_weight = []  # вероятности появления каждого j-ого символа после i-ого сообщения\n",
    "entropies_weight = []  # значения энтропий каждого j-ого символа после i-ого сообщения\n",
    "infos_weight = []  # значения кол-ва информации об j-ом символе после i-ого сообщения\n",
    "\n",
    "char_array = [priori_weight.copy() for j in range(s)]  # инициализируем априорными вероятностями\n",
    "chars_weight.append(char_array)\n",
    "\n",
    "for i in range(m):  # для каждого сообщения\n",
    "\n",
    "    entropies_array = []\n",
    "    info_array = []\n",
    "\n",
    "    for j in range(s):  # для каждой буквы в сообщении\n",
    "        entropies_array.append(find_cond_entropy(alph, chars_weight[i][j], messages[i][j]))\n",
    "        info_array.append(find_info(alph, chars_weight[i][j], messages[i][j]))\n",
    "        chars_weight[i][j] = find_posterior_probs(alph, chars_weight[i][j], messages[i][j])\n",
    "\n",
    "    entropies_weight.append(entropies_array)\n",
    "    infos_weight.append(info_array)\n",
    "\n",
    "    if i != m - 1:  # априорное для следующего = постериорное для текущего\n",
    "        char_array = []\n",
    "        for j in range(s):\n",
    "            char = chars_weight[i][j].copy()\n",
    "            char_array.append(char)\n",
    "        chars_weight.append(char_array)\n"
   ]
  },
  {
   "cell_type": "code",
   "execution_count": 19,
   "metadata": {},
   "outputs": [
    {
     "name": "stdout",
     "output_type": "stream",
     "text": [
      "1: 8:ЛДь9чимв 4зЕирТПизьдпПзо:_23521е Т воаНН_пк вкАНпыпЯлдчт_заяит пЯ геНоиб(вевЯчтаосиие2уЗНититиса СирелЬаМр3ч1ТзаЬо,тча. Ял!Л:тогЯ(ЯоПсебмеЯТ! проСииат6(хУикРммвкеи0Ко ззЬа:и(и?ннелЯр.!А№Ч(рЯсяерн7х када-_2!кА(и3елаА 9дЗ.\n",
      "2: А:ЛА6э3инв ВаЕХр,_изЛдОоозЕ_235А5? :ЛвоШНо_но виоНаАпАлл№т за!ет!по_теооии вето№тноТЕеЖИуЛНетиоиса (иреллаЛТ3:еТИаво,очаВ Ал!Л:тоДо(ооореиоеоТ! проре4ат6(-текОоовтеи.ио(зова:и(иеОоелЯт!!А-еЛрЯТяетнИх еадАееА!та(и3елаю(,тП.\n",
      "3: !, Дь,чЛмв 4ауим, изшгттпз:_23Ь85Зь, вЧаможно вкорпьпЯлучт еачет по№георииьверЯятнойтеЖМуЛЗеЫитиса (имикла рЕяЦсзавовича. Азя ,тоДо потрертегс: пробе4ать)хти птмвтеифие зРдпчи к(суелЯть!2-ШЛрЯсчетн7х оадания. Я(саелаю ,дП.\n",
      "4: гЕ(Д!ячЛов Вауим, ил(Ыттпз:_23585_6, вЧамжжно(влоро полу№т зачет по теории(вероятностеК уЛПекЩтина Кирилла ряяХсИавовича, АляЛ,тоДо потреитетс! проте4ат6(хти птостейшие задачи и сселАть!2-3ЛраТчетн7х завания. а саелаю(,тПВ\n",
      "5: г, ДьячЛов 4ауим, из гттпз: 23Ь81_6, воаможно вкоро получу зачет по теорииьЮероятнойтеК у Пикитина )имилйа ряяеславовица. Для ,того потребуетсю прогешать хти простеишие задачи и(сделЯть 2-3 расчетных задания. Я(саелаю ,гП!\n",
      "6: Я, ДьячЛов Вауим,_из гттпз:_23581_6, воаножно слоро!полу№у зачет по теории ЮероятнойтеК у Никитина Кирелла ряяеславовичаВ Для_этого потребуетсю проиешать эти птостейшие задачи и сделать 2-3 расчетных задания. а саелаю этП!\n",
      "7: Я, Дьячков Вадим,_из групзы 23581_4, воаможно скоро полу№у зачет по теории Юероятнойтей у Никитина Кирилла Вячеславовица. Для_этого потребуетсю пробешать эти прПстейшие задачи и сделЯть 2-3 расчетных задания. а саелаю эгП!\n",
      "8: Я, Дьячтов Вадим,_из групз: А3581_4, возмжжно слоро полу№у зачет по теории вероятностей у Никитина Кирелла Вяяеславовица. Аля этого аотребуеося прорешать эти простейшие задачи и сделать 2-3 расчетных задания. а саелаю это!\n",
      "9: Я, Дьячтов Вадим, из групз: 23581_4, возможно скоро получу зачет по теории верЯятностей у Никитина Кирилла бячеславовица. Для этого потребуеося прорешать эти прПстейшие задачи и сделать 2-3 расчетных задания. Я саелаю это!\n",
      "10: Я, Дьячтов Вадим, из групп: А3501_4, возможно скоро полу№у зачет по теории вероятностей у Никитина Кирилла Вяяеславовича. Аля этого потребуеося прорешать эти простейшие задачи и сделать 2-3 расчетных задания. Я саелаю это!\n",
      "11: Я, Дьячтов Вадим, из групп: 23501_4, возможно скорЯ получу зачет по теории вероятностей у Никитина Кирилла Вячеславовича. Аля этого потребуется прорешать эти простейшие задачи и сделать 2-3 расчетных задания. Я сделаю это!\n",
      "12: Я, Дьячтов Вадим, из групп: 23501_4, возможно скоро получу зачет по теории вероятностей у Никитина Кирилла Вячеславовича. Аля этого потребуется прорешать эти простейшие задачи и сделать 2-3 расчетных задания. Я саелаю это!\n",
      "13: Я, Дьячтов Вадим, из группы 23501_4, возможно скоро получу зачет по теории вероятностей у Никитина Кирилла Вячеславовича. Аля этого потребуется прорешать эти простейшие задачи и сделать 2-3 расчетных задания. Я сделаю это!\n",
      "14: Я, Дьячтов Вадим, из группы 23501_4, возможно скоро получу зачет по теории вероятностей у Никитина Кирилла Вяяеславовича. Аля этого потребуется прорешать эти простейшие задачи и сделать 2-3 расчетных задания. Я сделаю это!\n",
      "15: Я, Дьячтов Вадим, из группы 23501_4, возможно скоро получу зачет по теории вероятностей у Никитина Кирилла Вячеславовича. Аля этого потребуется прорешать эти простейшие задачи и сделать 2-3 расчетных задания. Я сделаю это!\n",
      "16: Я, Дьячтов Вадим, из группы 23501_4, возможно скоро получу зачет по теории вероятностей у Никитина Кирилла Вяяеславовича. Аля этого потребуется прорешать эти простейшие задачи и сделать 2-3 расчетных задания. Я сделаю это!\n",
      "17: Я, Дьячтов Вадим, из группы 23501_4, возможно скоро получу зачет по теории вероятностей у Никитина Кирилла Вячеславовича. Для этого потребуется прорешать эти простейшие задачи и сделать 2-3 расчетных задания. Я сделаю это!\n",
      "18: Я, Дьячтов Вадим, из группы 23501_4, возможно скоро получу зачет по теории вероятностей у Никитина Кирилла Вячеславовича. Для этого потребуется прорешать эти простейшие задачи и сделать 2-3 расчетных задания. Я сделаю это!\n"
     ]
    }
   ],
   "source": [
    "for i in range(m):\n",
    "    print(i + 1, end=': ')\n",
    "    for j in range(s):\n",
    "        max_char = find_max(chars_weight[i][j])\n",
    "        print(max_char, end='')\n",
    "    print()\n"
   ]
  },
  {
   "cell_type": "code",
   "execution_count": 20,
   "metadata": {},
   "outputs": [
    {
     "name": "stderr",
     "output_type": "stream",
     "text": [
      "/usr/local/anaconda3/lib/python3.6/site-packages/matplotlib/font_manager.py:1297: UserWarning: findfont: Font family ['Arial'] not found. Falling back to DejaVu Sans\n",
      "  (prop.get_family(), self.defaultFamily[fontext]))\n"
     ]
    }
   ],
   "source": [
    "for i in range(m):  # для каждого сообщения\n",
    "    curr = chars_weight[i][char_num]\n",
    "\n",
    "    title = 'Распределение вероятностей {0}-ой буквы сообщения после {1}-ой посылки (взвешенные вероятности)'.format(char_num, i + 1)\n",
    "    save = './../pics/weighted{0}.png'.format(i + 1)\n",
    "    plots.draw_distribution(get_sorted_keys(alph), curr, title, show=False, save=save)\n"
   ]
  },
  {
   "cell_type": "markdown",
   "metadata": {},
   "source": [
    "Из результатов видно, что в ситуации, когда вероятности задаются ихсодя из частоты встречания букв в русском языке, зашумленное сообщение было распознано немного быстрее."
   ]
  },
  {
   "cell_type": "markdown",
   "metadata": {},
   "source": [
    "## 1.2. Расчет энтропии и количества информации"
   ]
  },
  {
   "cell_type": "code",
   "execution_count": 21,
   "metadata": {
    "scrolled": false
   },
   "outputs": [
    {
     "name": "stderr",
     "output_type": "stream",
     "text": [
      "/usr/local/anaconda3/lib/python3.6/site-packages/matplotlib/font_manager.py:1297: UserWarning: findfont: Font family ['Arial'] not found. Falling back to DejaVu Sans\n",
      "  (prop.get_family(), self.defaultFamily[fontext]))\n"
     ]
    },
    {
     "data": {
      "image/png": "[encoded data removed]",
      "text/plain": [
       "<matplotlib.figure.Figure at 0x7fb2a227ea90>"
      ]
     },
     "metadata": {},
     "output_type": "display_data"
    }
   ],
   "source": [
    "x = range(1, m+1)\n",
    "h_u = []\n",
    "h_w = []\n",
    "\n",
    "for i in range(m):\n",
    "    h_u.append(entropies[i][char_num])\n",
    "    h_w.append(entropies_weight[i][char_num])\n",
    "    \n",
    "plots.draw_entropy(x, h_u, h_w, title='Энтропия {0}-ой буквы сообщения'.format(char_num, i + 1), save='./../pics/entropy.png')\n"
   ]
  },
  {
   "cell_type": "code",
   "execution_count": 22,
   "metadata": {},
   "outputs": [
    {
     "name": "stderr",
     "output_type": "stream",
     "text": [
      "/usr/local/anaconda3/lib/python3.6/site-packages/matplotlib/font_manager.py:1297: UserWarning: findfont: Font family ['Arial'] not found. Falling back to DejaVu Sans\n",
      "  (prop.get_family(), self.defaultFamily[fontext]))\n"
     ]
    },
    {
     "data": {
      "image/png": "[encoded data removed]",
      "text/plain": [
       "<matplotlib.figure.Figure at 0x7fb2a2258fd0>"
      ]
     },
     "metadata": {},
     "output_type": "display_data"
    }
   ],
   "source": [
    "x = range(1, m+1)\n",
    "i_u = []\n",
    "i_w = []\n",
    "    \n",
    "for i in range(m):\n",
    "    i_u.append(infos[i][char_num])\n",
    "    i_w.append(infos_weight[i][char_num])\n",
    "    \n",
    "plots.draw_info(x, i_u, i_w, title='Количество информации о {0}-ой букве сообщения'.format(char_num, i + 1), save='./../pics/infos.png')\n"
   ]
  },
  {
   "cell_type": "markdown",
   "metadata": {},
   "source": [
    "Средняя условная энтропия $H(X|Y)$ и среднее количество информации $I(X|Y)$: "
   ]
  },
  {
   "cell_type": "code",
   "execution_count": 23,
   "metadata": {},
   "outputs": [
    {
     "name": "stdout",
     "output_type": "stream",
     "text": [
      "H_uniform(X|Y) = 0.861692402510141\n",
      "I_uniform(X:Y) = 5.581251093338581\n",
      "H_weighted(X|Y) = 1.2354422110832053\n",
      "I_weighted(X:Y) = 4.7944082929790675\n"
     ]
    }
   ],
   "source": [
    "msgs = []\n",
    "x_u = []\n",
    "x_w = []\n",
    "for i in range(m):\n",
    "    x_u.append(chars[i][char_num])\n",
    "    x_w.append(chars_weight[i][char_num])\n",
    "    msgs.append(messages[i][char_num])\n",
    "    \n",
    "print('H_uniform(X|Y) = {h}'.format(h=find_avg_entropy(alph, priori, msgs)))\n",
    "print('I_uniform(X:Y) = {i}'.format(i=find_avg_info(alph, priori, msgs)))\n",
    "print('H_weighted(X|Y) = {h}'.format(h=find_avg_entropy(alph, priori_weight, msgs)))\n",
    "print('I_weighted(X:Y) = {i}'.format(i=find_avg_info(alph, priori_weight, msgs)))"
   ]
  },
  {
   "cell_type": "markdown",
   "metadata": {},
   "source": [
    "# Часть 2 Передача сообщения путем многократного дублирования"
   ]
  },
  {
   "cell_type": "markdown",
   "metadata": {},
   "source": [
    "## Все символы равновероятны"
   ]
  },
  {
   "cell_type": "code",
   "execution_count": 24,
   "metadata": {
    "collapsed": true
   },
   "outputs": [],
   "source": [
    "long_alph = alph.copy()\n",
    "\n",
    "for key in long_alph.keys():\n",
    "    long_alph[key] = long_alph[key] * 18"
   ]
  },
  {
   "cell_type": "code",
   "execution_count": 25,
   "metadata": {
    "collapsed": true
   },
   "outputs": [],
   "source": [
    "long_chars = []  # вероятности появления каждого j-ого символа инициализируем априорными вероятностями\n",
    "long_entropies = []  # значения энтропий каждого j-ого символа\n",
    "long_infos = []  # значения кол-ва информации об j-ом символе\n",
    "for j in range(s):\n",
    "    char = priori.copy()\n",
    "    long_chars.append(char)\n",
    "\n",
    "for j in range(s):  # для каждой буквы в сообщении\n",
    "    long_char = ''\n",
    "    for i in range(m):  # для каждого сообщения\n",
    "        long_char = long_char + messages[i][j]\n",
    "    long_entropies.append(find_cond_entropy(long_alph, long_chars[j], long_char))\n",
    "    long_infos.append(find_info(long_alph, long_chars[j], long_char))\n",
    "    long_chars[j] = find_posterior_probs(long_alph, long_chars[j], long_char)"
   ]
  },
  {
   "cell_type": "code",
   "execution_count": 26,
   "metadata": {},
   "outputs": [
    {
     "name": "stdout",
     "output_type": "stream",
     "text": [
      "Я, Дьячтов Вадим, из группы 23501_4, возможно скоро получу зачет по теории вероятностей у Никитина Кирилла Вячеславовича. Для этого потребуется прорешать эти простейшие задачи и сделать 2-3 расчетных задания. Я сделаю это!\n"
     ]
    }
   ],
   "source": [
    "for j in range(s):\n",
    "    max_char = find_max(long_chars[j])\n",
    "    print(max_char, end='')\n",
    "print()"
   ]
  },
  {
   "cell_type": "code",
   "execution_count": 27,
   "metadata": {},
   "outputs": [
    {
     "name": "stderr",
     "output_type": "stream",
     "text": [
      "/usr/local/anaconda3/lib/python3.6/site-packages/matplotlib/font_manager.py:1297: UserWarning: findfont: Font family ['Arial'] not found. Falling back to DejaVu Sans\n",
      "  (prop.get_family(), self.defaultFamily[fontext]))\n"
     ]
    },
    {
     "data": {
      "image/png": "[encoded data removed]",
      "text/plain": [
       "<matplotlib.figure.Figure at 0x7fb2a3195048>"
      ]
     },
     "metadata": {},
     "output_type": "display_data"
    }
   ],
   "source": [
    "curr = long_chars[char_num]\n",
    "    \n",
    "title = 'Распределение вероятностей {0}-ой буквы сообщения после посылки'.format(char_num)\n",
    "save = './../pics/long_uniform.png'\n",
    "plots.draw_distribution(get_sorted_keys(long_alph), curr, title, show=True, save=save)\n"
   ]
  },
  {
   "cell_type": "markdown",
   "metadata": {},
   "source": [
    "#### Вероятности задаются исходя из частоты встречания букв в русском языке"
   ]
  },
  {
   "cell_type": "code",
   "execution_count": 28,
   "metadata": {
    "collapsed": true
   },
   "outputs": [],
   "source": [
    "long_chars_weight = []  # вероятности появления каждого j-ого символа инициализируем априорными вероятностями\n",
    "long_entropies_weight = []  # значения энтропий каждого j-ого символа\n",
    "long_infos_weight = []  # значения кол-ва информации об j-ом символе\n",
    "for j in range(s):\n",
    "    char = priori_weight.copy()\n",
    "    long_chars_weight.append(char)\n",
    "\n",
    "for j in range(s):  # для каждой буквы в сообщении\n",
    "    long_char = ''\n",
    "    for i in range(m):  # для каждого сообщения\n",
    "        long_char = long_char + messages[i][j]\n",
    "    long_entropies_weight.append(find_cond_entropy(long_alph, long_chars_weight[j], long_char))\n",
    "    long_infos_weight.append(find_info(long_alph, long_chars_weight[j], long_char))\n",
    "    long_chars_weight[j] = find_posterior_probs(long_alph, long_chars_weight[j], long_char)"
   ]
  },
  {
   "cell_type": "code",
   "execution_count": 29,
   "metadata": {},
   "outputs": [
    {
     "name": "stdout",
     "output_type": "stream",
     "text": [
      "Я, Дьячтов Вадим, из группы 23501_4, возможно скоро получу зачет по теории вероятностей у Никитина Кирилла Вячеславовича. Для этого потребуется прорешать эти простейшие задачи и сделать 2-3 расчетных задания. Я сделаю это!\n"
     ]
    }
   ],
   "source": [
    "for j in range(s):\n",
    "    max_char = find_max(long_chars[j])\n",
    "    print(max_char, end='')\n",
    "print()"
   ]
  },
  {
   "cell_type": "code",
   "execution_count": 30,
   "metadata": {},
   "outputs": [
    {
     "name": "stderr",
     "output_type": "stream",
     "text": [
      "/usr/local/anaconda3/lib/python3.6/site-packages/matplotlib/font_manager.py:1297: UserWarning: findfont: Font family ['Arial'] not found. Falling back to DejaVu Sans\n",
      "  (prop.get_family(), self.defaultFamily[fontext]))\n"
     ]
    },
    {
     "data": {
      "image/png": "[encoded data removed]",
      "text/plain": [
       "<matplotlib.figure.Figure at 0x7fb2a2a61080>"
      ]
     },
     "metadata": {},
     "output_type": "display_data"
    }
   ],
   "source": [
    "curr = long_chars[char_num]\n",
    "\n",
    "title = 'Распределение вероятностей {0}-ой буквы сообщения после посылки'.format(char_num)\n",
    "save = './../pics/long_uniform_weighted.png'\n",
    "plots.draw_distribution(get_sorted_keys(long_alph), curr, title, show=True, save=save)"
   ]
  },
  {
   "cell_type": "markdown",
   "metadata": {},
   "source": [
    "## 2.2. Расчет энтропии и количества информации"
   ]
  },
  {
   "cell_type": "code",
   "execution_count": 31,
   "metadata": {},
   "outputs": [
    {
     "name": "stdout",
     "output_type": "stream",
     "text": [
      "H_uniform(X|y_7) = 0.25627958454257543\n",
      "H_weighted(X|y_7) = 0.1618074336624431\n"
     ]
    }
   ],
   "source": [
    "print('H_uniform(X|y_{i}) = {h}'.format(i=char_num, h=long_entropies[char_num]))\n",
    "print('H_weighted(X|y_{i}) = {h}'.format(i=char_num, h=long_entropies_weight[char_num]))"
   ]
  },
  {
   "cell_type": "code",
   "execution_count": 32,
   "metadata": {},
   "outputs": [
    {
     "name": "stdout",
     "output_type": "stream",
     "text": [
      "I_uniform(X|y_7) = 6.186663911306153\n",
      "I_weighted(X|y_7) = 5.244992933882747\n"
     ]
    }
   ],
   "source": [
    "print('I_uniform(X|y_{i}) = {inf}'.format(i=char_num, inf=long_infos[char_num]))\n",
    "print('I_weighted(X|y_{i}) = {inf}'.format(i=char_num, inf=long_infos_weight[char_num]))"
   ]
  },
  {
   "cell_type": "code",
   "execution_count": 33,
   "metadata": {},
   "outputs": [
    {
     "name": "stdout",
     "output_type": "stream",
     "text": [
      "H_uniform(X|Y) = 0.016388735257036047\n",
      "I_uniform(X:Y) = 6.426554760591687\n",
      "H_weighted(X|Y) = 0.018446096662675167\n",
      "I_weighted(X:Y) = 6.011404407399597\n"
     ]
    }
   ],
   "source": [
    "msgs = []\n",
    "for j in range(s):  # для каждой буквы в сообщении\n",
    "    long_char = ''\n",
    "    for i in range(m):  # для каждого сообщения\n",
    "        long_char = long_char + messages[i][j]\n",
    "    msgs.append(long_char)\n",
    "\n",
    "\n",
    "print('H_uniform(X|Y) = {h}'.format(h=find_avg_entropy(long_alph, priori, msgs)))\n",
    "print('I_uniform(X:Y) = {i}'.format(i=find_avg_info(long_alph, priori, msgs)))\n",
    "print('H_weighted(X|Y) = {h}'.format(h=find_avg_entropy(long_alph, priori_weight, msgs)))\n",
    "print('I_weighted(X:Y) = {i}'.format(i=find_avg_info(long_alph, priori_weight, msgs)))"
   ]
  }
 ],
 "metadata": {
  "kernelspec": {
   "display_name": "Python 3",
   "language": "python",
   "name": "python3"
  },
  "language_info": {
   "codemirror_mode": {
    "name": "ipython",
    "version": 3
   },
   "file_extension": ".py",
   "mimetype": "text/x-python",
   "name": "python",
   "nbconvert_exporter": "python",
   "pygments_lexer": "ipython3",
   "version": "3.6.1"
  }
 },
 "nbformat": 4,
 "nbformat_minor": 1
}
