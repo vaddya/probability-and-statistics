{
 "cells": [
  {
   "cell_type": "markdown",
   "metadata": {},
   "source": [
    "# Идентификация сообщений, передаваемых по зашумленному каналу связи"
   ]
  },
  {
   "cell_type": "markdown",
   "metadata": {},
   "source": [
    "# 1. Последовательная передача одинаковых сообщений"
   ]
  },
  {
   "cell_type": "markdown",
   "metadata": {},
   "source": [
    "## 1.1. Определение переданного сообщения"
   ]
  },
  {
   "cell_type": "markdown",
   "metadata": {},
   "source": [
    "### Исходный алфавит"
   ]
  },
  {
   "cell_type": "code",
   "execution_count": 1,
   "metadata": {
    "collapsed": true
   },
   "outputs": [],
   "source": [
    "def get_alphabet(filename):\n",
    "    \"\"\"Считать алфавит из файла\"\"\"\n",
    "    alphabet = {}\n",
    "    with open(filename, encoding='utf8') as f:\n",
    "        content = f.readlines()\n",
    "        content = [x.rstrip().split('\\t') for x in content]\n",
    "        for pair in content:\n",
    "            alphabet[pair[0]] = pair[1]\n",
    "    return alphabet\n",
    "\n",
    "\n",
    "def get_char(alphabet: dict, code: str):\n",
    "    \"\"\"Найти символ по его двоичному коду\"\"\"\n",
    "    for key, value in alphabet.items():\n",
    "        if value == code:\n",
    "            return key\n",
    "\n",
    "\n",
    "def get_sorted_keys(alphabet: dict):\n",
    "    \"\"\"Получить алфавит, отсортерованный по двоичному коду символов\"\"\"\n",
    "    sorted_values = sorted(alphabet.values())\n",
    "    sorted_keys = []\n",
    "    for value in sorted_values:\n",
    "        sorted_keys.append(get_char(alphabet, value))\n",
    "    return sorted_keys\n"
   ]
  },
  {
   "cell_type": "code",
   "execution_count": 2,
   "metadata": {},
   "outputs": [
    {
     "name": "stdout",
     "output_type": "stream",
     "text": [
      "{')': '1010101', '2': '0000010', '!': '1001110', ' ': '1010110', 'Ъ': '0100111', 'Г': '0001101', '7': '0000111', 'Р': '0011011', 'Я': '0101010', 'й': '0110101', 'у': '0111111', 'А': '0001010', 'Ж': '0010001', 'О': '0011001', 'н': '0111001', 'Д': '0001110', 'Щ': '0100100', 'ц': '1000010', 'ж': '0110010', 'и': '0110100', 'ь': '1000110', 'Ч': '0100010', 'ч': '1000011', 'Ё': '0010000', 'Ф': '0011111', 'с': '0111101', 'П': '0011010', 'л': '0110111', 'о': '0111010', '_': '1010010', ',': '1001101', 'м': '0111000', 'Э': '0101000', 'я': '1001011', 'ъ': '1001000', 'И': '0010011', 'Т': '0011101', '№': '1010011', 'р': '0111100', 'г': '0101110', 'Ю': '0101001', 'х': '1000001', 'Л': '0010110', 'Ш': '0100011', 'в': '0101101', 'Ы': '0100110', '(': '1010100', '.': '1001100', '-': '1010001', '5': '0000101', 'э': '1001001', 'Н': '0011000', 'Ь': '0100101', 'С': '0011100', 'т': '0111110', 'а': '0101011', 'К': '0010101', 'п': '0111011', 'У': '0011110', 'М': '0010111', '9': '0001001', 'ш': '1000100', '1': '0000001', 'з': '0110011', 'Е': '0001111', 'ф': '1000000', '6': '0000110', 'Ц': '0100001', 'ю': '1001010', 'е': '0110000', '3': '0000011', '0': '0000000', 'Й': '0010100', 'В': '0001100', 'З': '0010010', '8': '0001000', 'б': '0101100', '4': '0000100', '?': '1010000', 'к': '0110110', 'Б': '0001011', 'д': '0101111', 'ё': '0110001', ':': '1001111', 'Х': '0100000', 'ы': '1000111', 'щ': '1000101'}\n"
     ]
    }
   ],
   "source": [
    "alph = get_alphabet('alphabet.txt')\n",
    "print(alph)"
   ]
  },
  {
   "cell_type": "markdown",
   "metadata": {},
   "source": [
    "Словарь априорных вероятностей:"
   ]
  },
  {
   "cell_type": "code",
   "execution_count": 3,
   "metadata": {
    "collapsed": true
   },
   "outputs": [],
   "source": [
    "priori = alph.copy()\n",
    "n = len(alph)\n",
    "p = 1 / n\n",
    "for key, value in priori.items():\n",
    "    priori[key] = p\n"
   ]
  },
  {
   "cell_type": "markdown",
   "metadata": {},
   "source": [
    "Функция, находящая максимальное значение в словаре"
   ]
  },
  {
   "cell_type": "code",
   "execution_count": 4,
   "metadata": {
    "collapsed": true
   },
   "outputs": [],
   "source": [
    "def find_max(d: dict):\n",
    "    \"\"\"Найти в словаре ключ с максимальным значением\"\"\"\n",
    "    return max(d, key=d.get)\n"
   ]
  },
  {
   "cell_type": "markdown",
   "metadata": {},
   "source": [
    "### Входные данные"
   ]
  },
  {
   "cell_type": "code",
   "execution_count": 5,
   "metadata": {
    "collapsed": true
   },
   "outputs": [],
   "source": [
    "with open('input.txt', encoding='utf8') as f:\n",
    "    content = f.readlines()\n"
   ]
  },
  {
   "cell_type": "markdown",
   "metadata": {},
   "source": [
    "Колличество букв в каждом сообщении равно $s$:"
   ]
  },
  {
   "cell_type": "code",
   "execution_count": 6,
   "metadata": {},
   "outputs": [
    {
     "name": "stdout",
     "output_type": "stream",
     "text": [
      "s = 222\n"
     ]
    }
   ],
   "source": [
    "s = int(content[0].split(': ')[1])\n",
    "print('s = {s}'.format(s=s))\n"
   ]
  },
  {
   "cell_type": "markdown",
   "metadata": {},
   "source": [
    "Вероятность искажения каждого отдельного символа (бита) равна $q$, вероятность правильной передачи $p = 1 - q$:"
   ]
  },
  {
   "cell_type": "code",
   "execution_count": 7,
   "metadata": {},
   "outputs": [
    {
     "name": "stdout",
     "output_type": "stream",
     "text": [
      "p = 0.832, q = 0.168\n"
     ]
    }
   ],
   "source": [
    "q = float(content[2].split(': ')[1])\n",
    "p = 1 - q\n",
    "print('p = {p}, q = {q}'.format(p=p, q=q))\n"
   ]
  },
  {
   "cell_type": "markdown",
   "metadata": {},
   "source": [
    "Колличествно сообщений (посылок) равно $m$:"
   ]
  },
  {
   "cell_type": "code",
   "execution_count": 8,
   "metadata": {},
   "outputs": [
    {
     "name": "stdout",
     "output_type": "stream",
     "text": [
      "m = 18\n"
     ]
    }
   ],
   "source": [
    "m = int(content[3].split(': ')[1])\n",
    "print('m = {m}'.format(m=m))\n"
   ]
  },
  {
   "cell_type": "code",
   "execution_count": 9,
   "metadata": {
    "collapsed": true
   },
   "outputs": [],
   "source": [
    "char_num = 7 # номер буквы, которую будем исследовать в заданиях 1.2 и 2.2"
   ]
  },
  {
   "cell_type": "markdown",
   "metadata": {},
   "source": [
    "### Функции для работы с вероятностями"
   ]
  },
  {
   "cell_type": "code",
   "execution_count": 10,
   "metadata": {
    "collapsed": true
   },
   "outputs": [],
   "source": [
    "import math\n",
    "\n",
    "q = 0.168\n",
    "\n",
    "def find_prob(x: str, y: str):\n",
    "    \"\"\"Найти вероятность p(y|x)\"\"\"\n",
    "    assert len(x) == len(y)\n",
    "    res = 1\n",
    "    for i in range(len(x)):\n",
    "        res = res * (1 - q if x[i] == y[i] else q)\n",
    "    return res\n",
    "\n",
    "def find_message_prob(x: dict, x_when_y: dict):\n",
    "    \"\"\"Найти вероятность p(y)\"\"\"\n",
    "    res = 0\n",
    "    for char in x_when_y.keys():\n",
    "        res = res + x_when_y[char] * x[char]\n",
    "    return res\n",
    "\n",
    "def find_posterior_probs(alph: dict, x: dict, y: str):\n",
    "    \"\"\"Найти вероятность p(x|y)\"\"\"\n",
    "    x_when_y = alph.copy()\n",
    "    for char in x_when_y.keys():\n",
    "        x_when_y[char] = find_prob(alph[char], y)\n",
    "    prob_y = find_message_prob(x, x_when_y)\n",
    "    x_post = x.copy()\n",
    "    for char in x.keys():\n",
    "        x_post[char] = x_when_y[char] * x[char] / prob_y\n",
    "    return x_post\n",
    "\n",
    "def find_entropy(x: dict):\n",
    "    \"\"\"Найти энтропию H(X)\"\"\"\n",
    "    res = 0\n",
    "    for key, value in x.items():\n",
    "        res = res + value * math.log2(value)\n",
    "    return -res\n",
    "\n",
    "def find_cond_entropy(alph: dict, x: dict, y: str):\n",
    "    \"\"\"Найти условную энтропию H(X|y)\"\"\"\n",
    "    x_when_y = find_posterior_probs(alph, x, y)\n",
    "    res = 0\n",
    "    for key, value in x.items():\n",
    "        res = res + x_when_y[key] * math.log2(x_when_y[key])\n",
    "    return -res\n",
    "\n",
    "def find_avg_entropy(alph: dict, x: dict, y: list):\n",
    "    \"\"\"Найти среднюю условную энтропию H(X|Y)\"\"\"\n",
    "    res = 0\n",
    "    for yi in y:\n",
    "        x_when_y = find_posterior_probs(alph, x, yi)\n",
    "        res = res + find_message_prob(x, x_when_y) * find_cond_entropy(alph, x, yi)\n",
    "    return res\n",
    "\n",
    "def find_info(alph: dict, x: dict, y: str):\n",
    "    \"\"\"Найти количество информации I(X:y)\"\"\"\n",
    "    res = 0\n",
    "    post = find_posterior_probs(alph, x, y)\n",
    "    for char in x.keys():\n",
    "        res = res + post[char] * math.log2(x[char])\n",
    "    return -res - find_cond_entropy(alph, x, y)\n",
    "\n",
    "def find_avg_info(alph: dict, x: dict, y: list):\n",
    "    \"\"\"Найти среднее количество информации I(X:Y)\"\"\"\n",
    "    return find_entropy(x) - find_avg_entropy(alph, x, y)\n"
   ]
  },
  {
   "cell_type": "markdown",
   "metadata": {},
   "source": [
    "### Все символы равновероятны"
   ]
  },
  {
   "cell_type": "code",
   "execution_count": 11,
   "metadata": {
    "collapsed": true
   },
   "outputs": [],
   "source": [
    "messages = []\n",
    "\n",
    "for i in range(m):\n",
    "    codes = content[i + 4].split(': ')[1].rstrip().split(' ')\n",
    "    messages.append(codes)\n"
   ]
  },
  {
   "cell_type": "code",
   "execution_count": 12,
   "metadata": {
    "collapsed": true
   },
   "outputs": [],
   "source": [
    "chars = []  # вероятности появления каждого j-ого символа после i-ого сообщения\n",
    "entropies = []  # значения энтропий каждого j-ого символа после i-ого сообщения\n",
    "infos = []  # значения кол-ва информации об j-ом символе после i-ого сообщения\n",
    "\n",
    "char_array = []  # инициализируем априорными вероятностями\n",
    "for j in range(s):\n",
    "    char = priori.copy()\n",
    "    char_array.append(char)\n",
    "chars.append(char_array)\n",
    "\n",
    "for i in range(m):  # для каждого сообщения\n",
    "\n",
    "    entropies_array = []\n",
    "    info_array = []\n",
    "\n",
    "    for j in range(s):  # для каждой буквы в сообщении\n",
    "        entropies_array.append(find_cond_entropy(alph, chars[i][j], messages[i][j]))\n",
    "        info_array.append(find_info(alph, chars[i][j], messages[i][j]))\n",
    "        chars[i][j] = find_posterior_probs(alph, chars[i][j], messages[i][j])\n",
    "\n",
    "    entropies.append(entropies_array)\n",
    "    infos.append(info_array)\n",
    "\n",
    "    if i != m - 1:  # априорное для следующего = апостериорное для текущего\n",
    "        char_array = []\n",
    "        for j in range(s):\n",
    "            char = chars[i][j].copy()\n",
    "            char_array.append(char)\n",
    "        chars.append(char_array)\n"
   ]
  },
  {
   "cell_type": "code",
   "execution_count": 13,
   "metadata": {},
   "outputs": [
    {
     "name": "stdout",
     "output_type": "stream",
     "text": [
      "1: 8:ЛДьэчимв 4зГЩр)ПизьдпПзж:ж235ц1Ё ) вжчННжпк ,кБНпыпЯлдчт_заяит пЯ гХНоиб(вевЯчтЮосйиёцуЗНитЩтисШ (ирелЬаМр3чЦТзШЬо,тча. Ял!ЛФтжгЯ(ЯоПсебмеЯТ! про(йЩат6(хУЙ РммвкеифКо ззЬа:и(й?ннелЯр.!А№ц(рЯсяЁрн7х када-ж2!кА(и3елаю эдЗ.\n",
      "2: Я,(!ьэчинв 4ШТЩмчьйШ ЪРоЖжЕ_27Ьъ5Ё :ЛвЯШмУжнжьвйРма!пАЪЪ№У жЯ!итьпо_гЭориЩ виуо№УмайлиЖцуЛЁигиоисЮ )ймик7Ш ТчяеТЖШвЯ,ицаш Ай! ,ЫоДо ооПребниЯс! прПрифатД)фДи пПжвтейш)н зоЪаяи и ОсжуЧр!!3чШ рЯсчЁтнМх еадЯЭжА!ЛЭ)с3жлаю(,уП,\n",
      "3: !, ДьэчЛмв 4ауЩм, изшгттпз:_23Ьъ5Зь, вЧШмжжно вкорпьпЯлучт жачет по№геориЩьвжрЯятнойтеЖМуЛЗеЫЩтисЮ (имикла рБяЦсзаво,ича. Азя ,тоДо потрертегс: пробе4ать)хти птмвтейфй? зРдпчи к(суелЯть!2-ШЛрЯсчетн7х жадЮния. Я(сБжлаю ,дП.\n",
      "4: гГ(ДьячЛов ВадЩм: ил(гртпз:_235ъ4_!, вжШмжжуо влоро полу№у жачетьпо теориЩьЮжрЯятнойуеЖ уЛПикЩуинЮ )ймикйа СБяХсйавП,ича, Для ,того потржЩтегс: прпгешать)хуи птмстейшй? зБЫпчи к сселЯть!2-ШЛрЯТчетныщ жавЮния. а с3жлаю(,уПД\n",
      "5: г, ДьячЛов 4ауим, из гттпз: 23Ь81_6, вжамжжно вкоро получу зачет по теорииьЮжроятнойтеК у ПикЩтина )имилйа ряяХславо,ица. Для этого потржбуетсю прогешать эти простейшие задачи и(сдеЪЯть 2-3 расчетных задЮния. Я(саелаю эгП!\n",
      "6: Я, ДьячЛов Вадим,_из гттпзы_23581_6, воШножсж сломо!полу№у зачет по теорииьЮерЯятнойтей у Никитина )имикйа СяяХслШвПвичаВ Для этого потржбуетсю пробешать эти прПстейшие зпдачи и(сделЯть 2-3 равчетных жадЮния. а саелаю этП!\n",
      "7: Я, Дьячков Вадим,_из групзы 23581_4, воШмжжно скоро полу№у зачет по теории Южроятнойтей у НикЩтина Кирилла Вячеславовица. Для_этого потребуетсю пробешать эти прПстейшие задачи и сделЯть 2-3 расчетных задания. а саелаю эгП!\n",
      "8: Я, Дьячтов Вадим,_из групзы А3581_4, воШмжжно сломо полу№у зачет по теории верЯятнойтей у Никитина Кирилла бяяеславовица. Аля этого аотребуеося пробешать эти прПстейшие задачи и(сдЁлать 2-3 расчетных жадания. а сделаю это!\n",
      "9: Я, Дьячтов Вадим, из групз: 23581_4, возмжжно скоро получу зачет по теории верЯятностей у Никитина Кирилла бячеславовица. Для этого потребуеося прорешать эти прПстейшие задачи и сделать!2-3 расчетных задания. Я саелаю это!\n",
      "10: Я, Дьячтов Вадим, из группы А3501_4, возможно скорЯ полу№у зачет по теории верЯятностей у Никитина Кирилла бяяеславовича. Аля этого потребуется прорешать эти прПстейшие задачи и сделать!2-3 расчетных задания. Я сделаю это!\n",
      "11: Я, Дьячтов Вадим, из групп: 23501_4, возможно скорЯ получу зачет по теории вероятностей у Никитина Кирилла Вячеславовича. Аля этого потребуется прорешать эти простейшие задачи и сделать 2-3 расчетных задания. Я сделаю это!\n",
      "12: Я, Дьячтов Вадим, из группы 23501_4, возможно скорЯ получу зачет по теории вероятностей у Никитина Кирилла Вячеславовича. Аля этого потребуется прорешать эти простейшие задачи и сделать 2-3 расчетных задания. Я сделаю это!\n",
      "13: Я, Дьячтов Вадим, из группы 23501_4, возможно скоро получу зачет по теории вероятностей у Никитина Кирилла Вячеславовича. Аля этого потребуется прорешать эти простейшие задачи и сделать 2-3 расчетных задания. Я сделаю это!\n",
      "14: Я, Дьячтов Вадим, из группы 23501_4, возможно скоро получу зачет по теории вероятностей у Никитина Кирилла Вячеславовича. Аля этого потребуется прорешать эти простейшие задачи и сделать 2-3 расчетных задания. Я сделаю это!\n",
      "15: Я, Дьячтов Вадим, из группы 23501_4, возможно скоро получу зачет по теории вероятностей у Никитина Кирилла Вячеславовича. Аля этого потребуется прорешать эти простейшие задачи и сделать 2-3 расчетных задания. Я сделаю это!\n",
      "16: Я, Дьячтов Вадим, из группы 23501_4, возможно скоро получу зачет по теории вероятностей у Никитина Кирилла Вячеславовича. Аля этого потребуется прорешать эти простейшие задачи и сделать 2-3 расчетных задания. Я сделаю это!\n",
      "17: Я, Дьячтов Вадим, из группы 23501_4, возможно скоро получу зачет по теории вероятностей у Никитина Кирилла Вячеславовича. Для этого потребуется прорешать эти простейшие задачи и сделать 2-3 расчетных задания. Я сделаю это!\n",
      "18: Я, Дьячтов Вадим, из группы 23501_4, возможно скоро получу зачет по теории вероятностей у Никитина Кирилла Вячеславовича. Для этого потребуется прорешать эти простейшие задачи и сделать 2-3 расчетных задания. Я сделаю это!\n"
     ]
    }
   ],
   "source": [
    "for i in range(m):\n",
    "    print(i + 1, end=': ')\n",
    "    for j in range(s):\n",
    "        max_char = find_max(chars[i][j])\n",
    "        print(max_char, end='')\n",
    "    print()\n"
   ]
  },
  {
   "cell_type": "code",
   "execution_count": 14,
   "metadata": {
    "scrolled": true
   },
   "outputs": [],
   "source": [
    "import plots\n",
    "\n",
    "for i in range(m):  # для каждого сообщения\n",
    "    curr = chars[i][char_num]\n",
    "\n",
    "    title = 'Распределение вероятностей {0}-ой буквы сообщения после {1}-ой посылки (равновероятные)'.format(char_num, i + 1)\n",
    "    save = './../pics/uniform{0}.png'.format(i + 1)\n",
    "    plots.draw_distribution(get_sorted_keys(alph), curr, title, show=False, save=save)\n"
   ]
  },
  {
   "cell_type": "markdown",
   "metadata": {},
   "source": [
    "### Вероятности задаются исходя из частоты встречания букв в русском языке"
   ]
  },
  {
   "cell_type": "code",
   "execution_count": 15,
   "metadata": {},
   "outputs": [
    {
     "name": "stdout",
     "output_type": "stream",
     "text": [
      "{'и': 7.45, 'з': 1.81, 'ц': 0.52, 'в': 4.19, 'ю': 1.03, 'е': 8.1, 'ч': 1.27, 'т': 6.3, 'й': 1.31, 'у': 2.9, 'с': 5.45, 'ф': 0.4, 'э': 0.17, 'л': 4.32, 'б': 1.51, 'р': 5.53, 'ь': 1.9, 'н': 6.35, 'м': 3.29, 'к': 3.47, 'а': 8.66, 'ъ': 0.04, 'я': 2.22, 'д': 2.56, 'ё': 0.14, 'ш': 0.77, 'щ': 0.49, 'п': 3.35, 'г': 1.41, 'ы': 2.11, 'о': 9.28, 'ж': 0.78, 'х': 0.92}\n"
     ]
    }
   ],
   "source": [
    "with open('frequencies.txt', encoding='utf8') as f:\n",
    "    content = f.readlines()\n",
    "    frequncies = {}\n",
    "    content = [x.rstrip().split('\\t') for x in content] \n",
    "    for pair in content:\n",
    "        frequncies[pair[0]] = float(pair[1])\n",
    "        \n",
    "print(frequncies)\n"
   ]
  },
  {
   "cell_type": "code",
   "execution_count": 16,
   "metadata": {
    "collapsed": true
   },
   "outputs": [],
   "source": [
    "def get_frequency(char: str):\n",
    "    \"\"\"Получить вероятноость встречания символа\"\"\"\n",
    "    assert len(char) == 1\n",
    "    char = char.lower()\n",
    "    if char in frequncies.keys():\n",
    "        return len(frequncies) * priori[char] * frequncies[char] / sum(frequncies.values())\n",
    "    else:\n",
    "        return priori[char]\n"
   ]
  },
  {
   "cell_type": "code",
   "execution_count": 17,
   "metadata": {},
   "outputs": [
    {
     "name": "stdout",
     "output_type": "stream",
     "text": [
      "p('0') = 0.0115,\tp('1') = 0.0115,\tp('2') = 0.0115,\tp('3') = 0.0115,\tp('4') = 0.0115,\tp('5') = 0.0115,\tp('6') = 0.0115,\tp('7') = 0.0115,\tp('8') = 0.0115,\tp('9') = 0.0115,\tp('А') = 0.0328,\tp('Б') = 0.0057,\tp('В') = 0.0159,\tp('Г') = 0.0053,\tp('Д') = 0.0097,\tp('Е') = 0.0307,\tp('Ё') = 0.0005,\tp('Ж') = 0.0030,\tp('З') = 0.0069,\tp('И') = 0.0283,\tp('Й') = 0.0050,\tp('К') = 0.0132,\tp('Л') = 0.0164,\tp('М') = 0.0125,\tp('Н') = 0.0241,\tp('О') = 0.0352,\tp('П') = 0.0127,\tp('Р') = 0.0210,\tp('С') = 0.0207,\tp('Т') = 0.0239,\tp('У') = 0.0110,\tp('Ф') = 0.0015,\tp('Х') = 0.0035,\tp('Ц') = 0.0020,\tp('Ч') = 0.0048,\tp('Ш') = 0.0029,\tp('Щ') = 0.0019,\tp('Ь') = 0.0072,\tp('Ы') = 0.0080,\tp('Ъ') = 0.0002,\tp('Э') = 0.0006,\tp('Ю') = 0.0039,\tp('Я') = 0.0084,\tp('а') = 0.0328,\tp('б') = 0.0057,\tp('в') = 0.0159,\tp('г') = 0.0053,\tp('д') = 0.0097,\tp('е') = 0.0307,\tp('ё') = 0.0005,\tp('ж') = 0.0030,\tp('з') = 0.0069,\tp('и') = 0.0283,\tp('й') = 0.0050,\tp('к') = 0.0132,\tp('л') = 0.0164,\tp('м') = 0.0125,\tp('н') = 0.0241,\tp('о') = 0.0352,\tp('п') = 0.0127,\tp('р') = 0.0210,\tp('с') = 0.0207,\tp('т') = 0.0239,\tp('у') = 0.0110,\tp('ф') = 0.0015,\tp('х') = 0.0035,\tp('ц') = 0.0020,\tp('ч') = 0.0048,\tp('ш') = 0.0029,\tp('щ') = 0.0019,\tp('ь') = 0.0072,\tp('ы') = 0.0080,\tp('ъ') = 0.0002,\tp('э') = 0.0006,\tp('ю') = 0.0039,\tp('я') = 0.0084,\tp('.') = 0.0115,\tp(',') = 0.0115,\tp('!') = 0.0115,\tp(':') = 0.0115,\tp('?') = 0.0115,\tp('-') = 0.0115,\tp('_') = 0.0115,\tp('№') = 0.0115,\tp('(') = 0.0115,\tp(')') = 0.0115,\tp(' ') = 0.0115,\t\n",
      "Sum = 0.9999999999999997\n"
     ]
    }
   ],
   "source": [
    "priori_weight = priori.copy()\n",
    "for key in priori_weight.keys():\n",
    "    priori_weight[key] = get_frequency(key)\n",
    "    \n",
    "for key in get_sorted_keys(alph):    \n",
    "    print('p(\\'{0}\\') = {1}'.format(key, '{0:.4f}'.format(priori_weight[key])), end=',\\t')\n",
    "print()\n",
    "print('Sum = ' + str(sum(priori_weight.values())))\n"
   ]
  },
  {
   "cell_type": "code",
   "execution_count": 18,
   "metadata": {
    "collapsed": true
   },
   "outputs": [],
   "source": [
    "chars_weight = []  # вероятности появления каждого j-ого символа после i-ого сообщения\n",
    "entropies_weight = []  # значения энтропий каждого j-ого символа после i-ого сообщения\n",
    "infos_weight = []  # значения кол-ва информации об j-ом символе после i-ого сообщения\n",
    "\n",
    "char_array = []  # инициализируем априорными вероятностями\n",
    "for j in range(s):\n",
    "    char = priori_weight.copy()\n",
    "    char_array.append(char)\n",
    "chars_weight.append(char_array)\n",
    "\n",
    "for i in range(m):  # для каждого сообщения\n",
    "\n",
    "    entropies_array = []\n",
    "    info_array = []\n",
    "\n",
    "    for j in range(s):  # для каждой буквы в сообщении\n",
    "        entropies_array.append(find_cond_entropy(alph, chars_weight[i][j], messages[i][j]))\n",
    "        info_array.append(find_info(alph, chars_weight[i][j], messages[i][j]))\n",
    "        chars_weight[i][j] = find_posterior_probs(alph, chars_weight[i][j], messages[i][j])\n",
    "\n",
    "    entropies_weight.append(entropies_array)\n",
    "    infos_weight.append(info_array)\n",
    "\n",
    "    if i != m - 1:  # априорное для следующего = постериорное для текущего\n",
    "        char_array = []\n",
    "        for j in range(s):\n",
    "            char = chars_weight[i][j].copy()\n",
    "            char_array.append(char)\n",
    "        chars_weight.append(char_array)\n"
   ]
  },
  {
   "cell_type": "code",
   "execution_count": 19,
   "metadata": {},
   "outputs": [
    {
     "name": "stdout",
     "output_type": "stream",
     "text": [
      "1: 8:ЛДь,чимв 4зЕирТПизьдпПзо:_23521е Т воаНН_пк вкАНпыпЯлдчт_заяит пЯ геНоиб(вевЯчтаосиие2уЗНититиса СирелЬаМр3ч1ТзаЬо,тча. Ял!Л:тогЯ(ЯоПсебмеЯТ! проСииат6(хУикРммвкеи0Ко ззЬа:и(и?ннелЯр.!А№Ч(рЯсяерн7х када-_2!кА(и3елаА ,дЗ.\n",
      "2: А,ЛА6э3инв ВаЕХр-_изЛдОоозЕ_275А5_ :ЛвоШНо_но виоНаАпАлл№т за!ет по_теооии вето№тноТЕеЖИуЛНетиоиса )иреллаЛТ3:еТИаво,очаВ Ал:Л:тоДо ооореиоеоТ: проре4ат!)-текОоовтеи.ио(зова:и иеОоелЯт!!А-еЛрЯТяетнИх еадАееА.тА)и3елаю ,тП,\n",
      "3: !, Дь,чЛмв 4ауим, изшгттпз:_23Ь85Зь, вЧаможно вкорпьпЯлучт еачет по георииьверЯятнойтеЖМуЛЗеЫитиса (имикла рЕяЦсзавовича. Азя ,тоДо потрертегс: пробе4ать)хти птмвтеифие зРдпчи к(суелЯть!2-ШЛрЯсчетн7х оадания. Я(саелаю ,дП.\n",
      "4: гЕ Д!ячЛов Вауим, ил Ыттпз:_23585_!, вЧамжжно влоро полу№т зачет по теории вероятностеК уЛПекЩтина Кирилла ряяХсИавовича, АляЛ,тоДо потреитетс: проте4ат6)хти птостейшие задачи и сселАть!2-3ЛраТчетн7х завания. а саелаю ,тПВ\n",
      "5: г, ДьячЛов 4ауим, из гттпз: 23Ь81_6, воаможно вкоро получу зачет по теорииьЮероятнойтеК у Пикитина )имилйа ряяеславовица. Для ,того потребуетсю прогешать хти простеишие задачи и(сделЯть 2-3 расчетных задания. Я(саелаю ,гП!\n",
      "6: Я, ДьячЛов Вауим,_из гттпз:_23581_6, воаножно слоро!полу№у зачет по теории ЮероятнойтеК у Никитина Кирелла ряяеславовичаВ Для_этого потребуетсю проиешать эти птостейшие задачи и(сделать 2-3 расчетных задания. а саелаю этП!\n",
      "7: Я, Дьячков Вадим,_из групзы 23581_4, воаможно скоро полу№у зачет по теории Юероятнойтей у Никитина Кирилла Вячеславовица. Для_этого потребуетсю пробешать эти прПстейшие задачи и сделЯть 2-3 расчетных задания. а саелаю эгП!\n",
      "8: Я, Дьячтов Вадим,_из групз: А3581_4, возмжжно слоро полу№у зачет по теории вероятностей у Никитина Кирелла Вяяеславовица. Аля этого аотребуеося прорешать эти простейшие задачи и(сделать 2-3 расчетных задания. а саелаю это!\n",
      "9: Я, Дьячтов Вадим, из групз: 23581_4, возможно скоро получу зачет по теории верЯятностей у Никитина Кирилла бячеславовица. Для этого потребуеося прорешать эти прПстейшие задачи и сделать!2-3 расчетных задания. Я саелаю это!\n",
      "10: Я, Дьячтов Вадим, из групп: А3501_4, возможно скоро полу№у зачет по теории вероятностей у Никитина Кирилла Вяяеславовича. Аля этого потребуеося прорешать эти простейшие задачи и сделать!2-3 расчетных задания. Я саелаю это!\n",
      "11: Я, Дьячтов Вадим, из групп: 23501_4, возможно скорЯ получу зачет по теории вероятностей у Никитина Кирилла Вячеславовича. Аля этого потребуется прорешать эти простейшие задачи и сделать 2-3 расчетных задания. Я сделаю это!\n",
      "12: Я, Дьячтов Вадим, из групп: 23501_4, возможно скоро получу зачет по теории вероятностей у Никитина Кирилла Вячеславовича. Аля этого потребуется прорешать эти простейшие задачи и сделать 2-3 расчетных задания. Я саелаю это!\n",
      "13: Я, Дьячтов Вадим, из группы 23501_4, возможно скоро получу зачет по теории вероятностей у Никитина Кирилла Вячеславовича. Аля этого потребуется прорешать эти простейшие задачи и сделать 2-3 расчетных задания. Я сделаю это!\n",
      "14: Я, Дьячтов Вадим, из группы 23501_4, возможно скоро получу зачет по теории вероятностей у Никитина Кирилла Вяяеславовича. Аля этого потребуется прорешать эти простейшие задачи и сделать 2-3 расчетных задания. Я сделаю это!\n",
      "15: Я, Дьячтов Вадим, из группы 23501_4, возможно скоро получу зачет по теории вероятностей у Никитина Кирилла Вячеславовича. Аля этого потребуется прорешать эти простейшие задачи и сделать 2-3 расчетных задания. Я сделаю это!\n",
      "16: Я, Дьячтов Вадим, из группы 23501_4, возможно скоро получу зачет по теории вероятностей у Никитина Кирилла Вяяеславовича. Аля этого потребуется прорешать эти простейшие задачи и сделать 2-3 расчетных задания. Я сделаю это!\n",
      "17: Я, Дьячтов Вадим, из группы 23501_4, возможно скоро получу зачет по теории вероятностей у Никитина Кирилла Вячеславовича. Для этого потребуется прорешать эти простейшие задачи и сделать 2-3 расчетных задания. Я сделаю это!\n",
      "18: Я, Дьячтов Вадим, из группы 23501_4, возможно скоро получу зачет по теории вероятностей у Никитина Кирилла Вячеславовича. Для этого потребуется прорешать эти простейшие задачи и сделать 2-3 расчетных задания. Я сделаю это!\n"
     ]
    }
   ],
   "source": [
    "for i in range(m):\n",
    "    print(i + 1, end=': ')\n",
    "    for j in range(s):\n",
    "        max_char = find_max(chars_weight[i][j])\n",
    "        print(max_char, end='')\n",
    "    print()\n"
   ]
  },
  {
   "cell_type": "code",
   "execution_count": 20,
   "metadata": {
    "collapsed": true
   },
   "outputs": [],
   "source": [
    "for i in range(m):  # для каждого сообщения\n",
    "    curr = chars_weight[i][char_num]\n",
    "\n",
    "    title = 'Распределение вероятностей {0}-ой буквы сообщения после {1}-ой посылки (взвешенные вероятности)'.format(char_num, i + 1)\n",
    "    save = './../pics/weighted{0}.png'.format(i + 1)\n",
    "    plots.draw_distribution(get_sorted_keys(alph), curr, title, show=False, save=save)\n"
   ]
  },
  {
   "cell_type": "markdown",
   "metadata": {},
   "source": [
    "Из результатов видно, что в ситуации, когда вероятности задаются ихсодя из частоты встречания букв в русском языке, зашумленное сообщение было распознано немного быстрее."
   ]
  },
  {
   "cell_type": "markdown",
   "metadata": {},
   "source": [
    "## 1.2. Расчет энтропии и количества информации"
   ]
  },
  {
   "cell_type": "code",
   "execution_count": 21,
   "metadata": {
    "scrolled": false
   },
   "outputs": [
    {
     "data": {
      "image/png": "[encoded data removed]",
      "text/plain": [
       "<matplotlib.figure.Figure at 0x294e72a77f0>"
      ]
     },
     "metadata": {},
     "output_type": "display_data"
    }
   ],
   "source": [
    "x = range(1, m+1)\n",
    "h_u = []\n",
    "h_w = []\n",
    "\n",
    "for i in range(m):\n",
    "    h_u.append(entropies[i][char_num])\n",
    "    h_w.append(entropies_weight[i][char_num])\n",
    "    \n",
    "plots.draw_entropy(x, h_u, h_w, title='Энтропия {0}-ой буквы сообщения'.format(char_num, i + 1), save='./../pics/entropy.png')\n"
   ]
  },
  {
   "cell_type": "code",
   "execution_count": 22,
   "metadata": {},
   "outputs": [
    {
     "data": {
      "image/png": "[encoded data removed]",
      "text/plain": [
       "<matplotlib.figure.Figure at 0x294e7296358>"
      ]
     },
     "metadata": {},
     "output_type": "display_data"
    }
   ],
   "source": [
    "x = range(1, m+1)\n",
    "i_u = []\n",
    "i_w = []\n",
    "    \n",
    "for i in range(m):\n",
    "    i_u.append(infos[i][char_num])\n",
    "    i_w.append(infos_weight[i][char_num])\n",
    "    \n",
    "plots.draw_info(x, i_u, i_w, title='Количество информации о {0}-ой букве сообщения'.format(char_num, i + 1), save='./../pics/infos.png')\n"
   ]
  },
  {
   "cell_type": "markdown",
   "metadata": {},
   "source": [
    "Средняя условная энтропия $H(X|Y)$ и среднее количество информации $I(X|Y)$: "
   ]
  },
  {
   "cell_type": "code",
   "execution_count": 23,
   "metadata": {},
   "outputs": [
    {
     "name": "stdout",
     "output_type": "stream",
     "text": [
      "H_uniform(X|Y) = 0.8616924025101425\n",
      "I_uniform(X:Y) = 5.58125109333858\n",
      "H_weighted(X|Y) = 1.235442211083206\n",
      "I_weighted(X:Y) = 4.794408292979066\n"
     ]
    }
   ],
   "source": [
    "msgs = []\n",
    "x_u = []\n",
    "x_w = []\n",
    "for i in range(m):\n",
    "    x_u.append(chars[i][char_num])\n",
    "    x_w.append(chars_weight[i][char_num])\n",
    "    msgs.append(messages[i][char_num])\n",
    "    \n",
    "print('H_uniform(X|Y) = {h}'.format(h=find_avg_entropy(alph, priori, msgs)))\n",
    "print('I_uniform(X:Y) = {i}'.format(i=find_avg_info(alph, priori, msgs)))\n",
    "print('H_weighted(X|Y) = {h}'.format(h=find_avg_entropy(alph, priori_weight, msgs)))\n",
    "print('I_weighted(X:Y) = {i}'.format(i=find_avg_info(alph, priori_weight, msgs)))"
   ]
  },
  {
   "cell_type": "markdown",
   "metadata": {},
   "source": [
    "# Часть 2 Передача сообщения путем многократного дублирования"
   ]
  },
  {
   "cell_type": "markdown",
   "metadata": {},
   "source": [
    "## Все символы равновероятны"
   ]
  },
  {
   "cell_type": "code",
   "execution_count": 24,
   "metadata": {
    "collapsed": true
   },
   "outputs": [],
   "source": [
    "long_alph = alph.copy()\n",
    "\n",
    "for key in long_alph.keys():\n",
    "    long_alph[key] = long_alph[key] * 18"
   ]
  },
  {
   "cell_type": "code",
   "execution_count": 25,
   "metadata": {
    "collapsed": true
   },
   "outputs": [],
   "source": [
    "long_chars = []  # вероятности появления каждого j-ого символа инициализируем априорными вероятностями\n",
    "long_entropies = []  # значения энтропий каждого j-ого символа\n",
    "long_infos = []  # значения кол-ва информации об j-ом символе\n",
    "for j in range(s):\n",
    "    char = priori.copy()\n",
    "    long_chars.append(char)\n",
    "\n",
    "for j in range(s):  # для каждой буквы в сообщении\n",
    "    long_char = ''\n",
    "    for i in range(m):  # для каждого сообщения\n",
    "        long_char = long_char + messages[i][j]\n",
    "    long_entropies.append(find_cond_entropy(long_alph, long_chars[j], long_char))\n",
    "    long_infos.append(find_info(long_alph, long_chars[j], long_char))\n",
    "    long_chars[j] = find_posterior_probs(long_alph, long_chars[j], long_char)"
   ]
  },
  {
   "cell_type": "code",
   "execution_count": 26,
   "metadata": {},
   "outputs": [
    {
     "name": "stdout",
     "output_type": "stream",
     "text": [
      "Я, Дьячтов Вадим, из группы 23501_4, возможно скоро получу зачет по теории вероятностей у Никитина Кирилла Вячеславовича. Для этого потребуется прорешать эти простейшие задачи и сделать 2-3 расчетных задания. Я сделаю это!\n"
     ]
    }
   ],
   "source": [
    "for j in range(s):\n",
    "    max_char = find_max(long_chars[j])\n",
    "    print(max_char, end='')\n",
    "print()"
   ]
  },
  {
   "cell_type": "code",
   "execution_count": 27,
   "metadata": {},
   "outputs": [
    {
     "data": {
      "image/png": "[encoded data removed]",
      "text/plain": [
       "<matplotlib.figure.Figure at 0x294e5f4c978>"
      ]
     },
     "metadata": {},
     "output_type": "display_data"
    }
   ],
   "source": [
    "curr = long_chars[char_num]\n",
    "    \n",
    "title = 'Распределение вероятностей {0}-ой буквы сообщения после посылки'.format(char_num)\n",
    "save = './../pics/long_uniform.png'\n",
    "plots.draw_distribution(get_sorted_keys(long_alph), curr, title, show=True, save=save)\n"
   ]
  },
  {
   "cell_type": "markdown",
   "metadata": {},
   "source": [
    "#### Вероятности задаются исходя из частоты встречания букв в русском языке"
   ]
  },
  {
   "cell_type": "code",
   "execution_count": 28,
   "metadata": {
    "collapsed": true
   },
   "outputs": [],
   "source": [
    "long_chars_weight = []  # вероятности появления каждого j-ого символа инициализируем априорными вероятностями\n",
    "long_entropies_weight = []  # значения энтропий каждого j-ого символа\n",
    "long_infos_weight = []  # значения кол-ва информации об j-ом символе\n",
    "for j in range(s):\n",
    "    char = priori_weight.copy()\n",
    "    long_chars_weight.append(char)\n",
    "\n",
    "for j in range(s):  # для каждой буквы в сообщении\n",
    "    long_char = ''\n",
    "    for i in range(m):  # для каждого сообщения\n",
    "        long_char = long_char + messages[i][j]\n",
    "    long_entropies_weight.append(find_cond_entropy(long_alph, long_chars_weight[j], long_char))\n",
    "    long_infos_weight.append(find_info(long_alph, long_chars_weight[j], long_char))\n",
    "    long_chars_weight[j] = find_posterior_probs(long_alph, long_chars_weight[j], long_char)"
   ]
  },
  {
   "cell_type": "code",
   "execution_count": 29,
   "metadata": {},
   "outputs": [
    {
     "name": "stdout",
     "output_type": "stream",
     "text": [
      "Я, Дьячтов Вадим, из группы 23501_4, возможно скоро получу зачет по теории вероятностей у Никитина Кирилла Вячеславовича. Для этого потребуется прорешать эти простейшие задачи и сделать 2-3 расчетных задания. Я сделаю это!\n"
     ]
    }
   ],
   "source": [
    "for j in range(s):\n",
    "    max_char = find_max(long_chars[j])\n",
    "    print(max_char, end='')\n",
    "print()"
   ]
  },
  {
   "cell_type": "code",
   "execution_count": 30,
   "metadata": {},
   "outputs": [
    {
     "data": {
      "image/png": "[encoded data removed]",
      "text/plain": [
       "<matplotlib.figure.Figure at 0x294e5f9d2e8>"
      ]
     },
     "metadata": {},
     "output_type": "display_data"
    }
   ],
   "source": [
    "curr = long_chars[char_num]\n",
    "\n",
    "title = 'Распределение вероятностей {0}-ой буквы сообщения после посылки'.format(char_num)\n",
    "save = './../pics/long_uniform_weighted.png'\n",
    "plots.draw_distribution(get_sorted_keys(long_alph), curr, title, show=True, save=save)"
   ]
  },
  {
   "cell_type": "markdown",
   "metadata": {},
   "source": [
    "## 2.2. Расчет энтропии и количества информации"
   ]
  },
  {
   "cell_type": "code",
   "execution_count": 31,
   "metadata": {},
   "outputs": [
    {
     "name": "stdout",
     "output_type": "stream",
     "text": [
      "H_uniform(X|y_7) = 0.2562795845425756\n",
      "H_weighted(X|y_7) = 0.1618074336624431\n"
     ]
    }
   ],
   "source": [
    "print('H_uniform(X|y_{i}) = {h}'.format(i=char_num, h=long_entropies[char_num]))\n",
    "print('H_weighted(X|y_{i}) = {h}'.format(i=char_num, h=long_entropies_weight[char_num]))"
   ]
  },
  {
   "cell_type": "code",
   "execution_count": 32,
   "metadata": {},
   "outputs": [
    {
     "name": "stdout",
     "output_type": "stream",
     "text": [
      "I_uniform(X|y_7) = 6.186663911306151\n",
      "I_weighted(X|y_7) = 5.244992933882746\n"
     ]
    }
   ],
   "source": [
    "print('I_uniform(X|y_{i}) = {inf}'.format(i=char_num, inf=long_infos[char_num]))\n",
    "print('I_weighted(X|y_{i}) = {inf}'.format(i=char_num, inf=long_infos_weight[char_num]))"
   ]
  },
  {
   "cell_type": "code",
   "execution_count": 33,
   "metadata": {},
   "outputs": [
    {
     "name": "stdout",
     "output_type": "stream",
     "text": [
      "H_uniform(X|Y) = 0.016388735257036033\n",
      "I_uniform(X:Y) = 6.426554760591687\n",
      "H_weighted(X|Y) = 0.018446096662675115\n",
      "I_weighted(X:Y) = 6.0114044073995965\n"
     ]
    }
   ],
   "source": [
    "msgs = []\n",
    "for j in range(s):  # для каждой буквы в сообщении\n",
    "    long_char = ''\n",
    "    for i in range(m):  # для каждого сообщения\n",
    "        long_char = long_char + messages[i][j]\n",
    "    msgs.append(long_char)\n",
    "\n",
    "\n",
    "print('H_uniform(X|Y) = {h}'.format(h=find_avg_entropy(long_alph, priori, msgs)))\n",
    "print('I_uniform(X:Y) = {i}'.format(i=find_avg_info(long_alph, priori, msgs)))\n",
    "print('H_weighted(X|Y) = {h}'.format(h=find_avg_entropy(long_alph, priori_weight, msgs)))\n",
    "print('I_weighted(X:Y) = {i}'.format(i=find_avg_info(long_alph, priori_weight, msgs)))"
   ]
  }
 ],
 "metadata": {
  "kernelspec": {
   "display_name": "Python 3",
   "language": "python",
   "name": "python3"
  },
  "language_info": {
   "codemirror_mode": {
    "name": "ipython",
    "version": 3
   },
   "file_extension": ".py",
   "mimetype": "text/x-python",
   "name": "python",
   "nbconvert_exporter": "python",
   "pygments_lexer": "ipython3",
   "version": "3.5.2"
  }
 },
 "nbformat": 4,
 "nbformat_minor": 1
}
