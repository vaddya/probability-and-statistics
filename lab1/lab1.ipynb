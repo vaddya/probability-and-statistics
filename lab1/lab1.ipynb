{
 "cells": [
  {
   "cell_type": "markdown",
   "metadata": {},
   "source": [
    "# Расчетное задание 1"
   ]
  },
  {
   "cell_type": "markdown",
   "metadata": {},
   "source": [
    "## Идентификация сообщений, передаваемых по зашумленному каналу связи"
   ]
  },
  {
   "cell_type": "markdown",
   "metadata": {},
   "source": [
    "### Часть 1. Последовательная передача одинаковых сообщений"
   ]
  },
  {
   "cell_type": "markdown",
   "metadata": {},
   "source": [
    "#### 1.1. Определение переданного сообщения"
   ]
  },
  {
   "cell_type": "markdown",
   "metadata": {},
   "source": [
    "##### Исходный алфавит"
   ]
  },
  {
   "cell_type": "code",
   "execution_count": 1,
   "metadata": {},
   "outputs": [
    {
     "name": "stdout",
     "output_type": "stream",
     "text": [
      "{':': '1001111', 'З': '0010010', '3': '0000011', 'ы': '1000111', ')': '1010101', '0': '0000000', 'Л': '0010110', 'П': '0011010', 'М': '0010111', 'Я': '0101010', 'я': '1001011', 'ш': '1000100', 'х': '1000001', 'Ж': '0010001', 'ч': '1000011', 'Ь': '0100101', 'Б': '0001011', 'ф': '1000000', 'Й': '0010100', 'и': '0110100', '№': '1010011', 'Ц': '0100001', 'Н': '0011000', 'п': '0111011', 'л': '0110111', '9': '0001001', 'Щ': '0100100', 'б': '0101100', 'Ъ': '0100111', 'Т': '0011101', 'е': '0110000', 'э': '1001001', '6': '0000110', '2': '0000010', 'д': '0101111', 'з': '0110011', 'с': '0111101', 'Р': '0011011', 'К': '0010101', 'Д': '0001110', 'о': '0111010', 'к': '0110110', 'ъ': '1001000', 'Ы': '0100110', 'у': '0111111', 'щ': '1000101', 'У': '0011110', '(': '1010100', '8': '0001000', 'г': '0101110', 'Г': '0001101', 'в': '0101101', ',': '1001101', '5': '0000101', '?': '1010000', 'И': '0010011', '!': '1001110', 'Ш': '0100011', 'О': '0011001', '1': '0000001', 'м': '0111000', 'ё': '0110001', 'т': '0111110', '.': '1001100', '4': '0000100', 'Х': '0100000', '_': '1010010', ' ': '1010110', 'ц': '1000010', 'й': '0110101', 'А': '0001010', 'В': '0001100', 'Е': '0001111', 'Ю': '0101001', 'Э': '0101000', 'н': '0111001', 'ж': '0110010', 'ь': '1000110', 'Ч': '0100010', '7': '0000111', '-': '1010001', 'р': '0111100', 'С': '0011100', 'Ё': '0010000', 'ю': '1001010', 'а': '0101011', 'Ф': '0011111'}\n"
     ]
    }
   ],
   "source": [
    "alphabet = {}\n",
    "with open('alphabet.txt', encoding='utf8') as f:\n",
    "    content = f.readlines()\n",
    "    content = [x.rstrip().split('\\t') for x in content]\n",
    "    for pair in content:\n",
    "        alphabet[pair[0]] = pair[1]\n",
    "    print(alphabet)\n"
   ]
  },
  {
   "cell_type": "code",
   "execution_count": 2,
   "metadata": {
    "collapsed": true
   },
   "outputs": [],
   "source": [
    "def get_char(code: str):\n",
    "    \"\"\"Найти символ по его двоичному коду\"\"\"\n",
    "    for key, value in alphabet.items():\n",
    "        if value == code:\n",
    "            return key\n"
   ]
  },
  {
   "cell_type": "code",
   "execution_count": 3,
   "metadata": {
    "collapsed": true
   },
   "outputs": [],
   "source": [
    "def get_sorted_keys():\n",
    "    \"\"\"Получить алфавит, отсортерованный по двоичному коду символов\"\"\"\n",
    "    sorted_values = sorted(alphabet.values())\n",
    "    sorted_keys = []\n",
    "    for value in sorted_values:\n",
    "        sorted_keys.append(get_char(value))\n",
    "    return sorted_keys\n"
   ]
  },
  {
   "cell_type": "markdown",
   "metadata": {},
   "source": [
    "Словарь априорных вероятностей:"
   ]
  },
  {
   "cell_type": "code",
   "execution_count": 4,
   "metadata": {
    "collapsed": true
   },
   "outputs": [],
   "source": [
    "priori = alphabet.copy()\n",
    "n = len(alphabet)\n",
    "p = 1 / n\n",
    "for key, value in priori.items():\n",
    "    priori[key] = p\n"
   ]
  },
  {
   "cell_type": "markdown",
   "metadata": {},
   "source": [
    "Функция, находящая максимальное значение в словаре"
   ]
  },
  {
   "cell_type": "code",
   "execution_count": 5,
   "metadata": {
    "collapsed": true
   },
   "outputs": [],
   "source": [
    "def find_max(d: dict):\n",
    "    \"\"\"Найти в словаре ключ с максимальным значением\"\"\"\n",
    "    return max(d, key=d.get)\n"
   ]
  },
  {
   "cell_type": "markdown",
   "metadata": {},
   "source": [
    "##### Входные данные"
   ]
  },
  {
   "cell_type": "code",
   "execution_count": 6,
   "metadata": {
    "collapsed": true
   },
   "outputs": [],
   "source": [
    "with open('input.txt', encoding='utf8') as f:\n",
    "    content = f.readlines()\n"
   ]
  },
  {
   "cell_type": "markdown",
   "metadata": {},
   "source": [
    "Колличество букв в каждом сообщении равно $s$:"
   ]
  },
  {
   "cell_type": "code",
   "execution_count": 7,
   "metadata": {},
   "outputs": [
    {
     "name": "stdout",
     "output_type": "stream",
     "text": [
      "s = 222\n"
     ]
    }
   ],
   "source": [
    "s = int(content[0].split(': ')[1])\n",
    "print('s = {s}'.format(s=s))\n"
   ]
  },
  {
   "cell_type": "markdown",
   "metadata": {},
   "source": [
    "Вероятность искажения каждого отдельного символа (бита) равна $q$, вероятность правильной передачи $p = 1 - q$:"
   ]
  },
  {
   "cell_type": "code",
   "execution_count": 8,
   "metadata": {},
   "outputs": [
    {
     "name": "stdout",
     "output_type": "stream",
     "text": [
      "p = 0.832, q = 0.168\n"
     ]
    }
   ],
   "source": [
    "q = float(content[2].split(': ')[1])\n",
    "p = 1 - q\n",
    "print('p = {p}, q = {q}'.format(p=p, q=q))\n"
   ]
  },
  {
   "cell_type": "markdown",
   "metadata": {},
   "source": [
    "Колличествно сообщений (посылок) равно $m$:"
   ]
  },
  {
   "cell_type": "code",
   "execution_count": 9,
   "metadata": {},
   "outputs": [
    {
     "name": "stdout",
     "output_type": "stream",
     "text": [
      "m = 18\n"
     ]
    }
   ],
   "source": [
    "m = int(content[3].split(': ')[1])\n",
    "print('m = {m}'.format(m=m))\n"
   ]
  },
  {
   "cell_type": "code",
   "execution_count": 10,
   "metadata": {
    "collapsed": true
   },
   "outputs": [],
   "source": [
    "from probability import *"
   ]
  },
  {
   "cell_type": "markdown",
   "metadata": {},
   "source": [
    "##### Все символы равновероятны"
   ]
  },
  {
   "cell_type": "code",
   "execution_count": 11,
   "metadata": {
    "collapsed": true
   },
   "outputs": [],
   "source": [
    "messages = []\n",
    "\n",
    "for i in range(m):\n",
    "    codes = content[i + 4].split(': ')[1].rstrip().split(' ')\n",
    "    messages.append(codes)\n"
   ]
  },
  {
   "cell_type": "code",
   "execution_count": 12,
   "metadata": {},
   "outputs": [],
   "source": [
    "chars = []  # вероятности появления каждого j-ого символа после i-ого сообщения\n",
    "entropies = []  # значения энтропий каждого j-ого символа после i-ого сообщения\n",
    "infos = []  # значения кол-ва информации об j-ом символе после i-ого сообщения\n",
    "\n",
    "char_array = []  # инициализируем априорными вероятностями\n",
    "for j in range(s):\n",
    "    char = priori.copy()\n",
    "    char_array.append(char)\n",
    "chars.append(char_array)\n",
    "\n",
    "for i in range(m):  # для каждого сообщения\n",
    "\n",
    "    entropies_array = []\n",
    "    info_array = []\n",
    "\n",
    "    for j in range(s):  # для каждой буквы в сообщении\n",
    "        entropies_array.append(find_cond_entropy(alphabet, chars[i][j], messages[i][j]))\n",
    "        info_array.append(find_info(alphabet, chars[i][j], messages[i][j]))\n",
    "        chars[i][j] = find_posterior_probs(alphabet, chars[i][j], messages[i][j])\n",
    "\n",
    "    entropies.append(entropies_array)\n",
    "    infos.append(info_array)\n",
    "\n",
    "    if i != m - 1:  # априорное для следующего = апостериорное для текущего\n",
    "        char_array = []\n",
    "        for j in range(s):\n",
    "            char = chars[i][j].copy()\n",
    "            char_array.append(char)\n",
    "        chars.append(char_array)\n"
   ]
  },
  {
   "cell_type": "code",
   "execution_count": 13,
   "metadata": {},
   "outputs": [
    {
     "name": "stdout",
     "output_type": "stream",
     "text": [
      "1: 8:ЛДьэчимв 4зГЩр)ПизьдпПзж:_235ц1Ё ) вжчНН_пк ,кБНпыпЯлдчт_заяит пЯ гХНоиб(вевЯчтЮосйиёцуЗНитЩтисШ .ирелЬаМр3чЦТзШЬо,тча. Ял!Л:тжгЯ(ЯоПсебмеЯТ! про.йшат6(хУЙкРммвкеифКо ззЬа:и(й?ннелЯр.УА№ц(рЯсяЁрн7х кядя-_2!кА(и3елаю эдЗ.\n",
      "2: Я:(Я6э3Лмв 4пдЩмчьиз6дПУЗз:_З7Ь25Зь:ЛвгШмП_птывйПмаБпЯзЪ№У зЯ!ит!по№геммиЬ.видЯяУмЯллиЖЛуЗЗикикисЦ )Ймиллп6бяыеЬЖа5Я,ицБш гл:Л:ЫпДЯ(ппПсёбпиЯТ: прП.ифатД)хДЗкнППбкеиш)н(зЗЬа:и(иЗМужлЯтшУ3хШЛбЯТяетн3х еадЯееч.Ля)сБХлаю(,дЗ,\n",
      "3: !, ДьэчЛмв 4ауЩм, изшгттпз:_23Ьъ5Зь,УвЧШмжжно вкорпьпЯлучт жачет по№геориЩьвжрЯятнойтеЖыуЛЗеЫЩтисЮ (имикла рБяЦсзаво,ича. Азя ,тоДо потрертегс: пробе4ать)хти птмвтейфй? зРдпчи к(суелЯть 2-ШЛрЯсчетн7х жадэния. Я(сБжлаю ,дП.\n",
      "4: г:(ДьячЛов 4адим: из Ыттпз:_Ч35ъ5З6, вЧамжжсо(вкорп пмлу№т(зачетьпо теориЩьЮжрЯятнойуеЖ уЛЗикЩтинЮ )йрикла СБяХсйаво,ица, ДляЛ,того потржбуегс: прпбешать)хти птмстейши? зБЫачи к(суелЯть 2-ШЛрЯсхетныщ задЮния. я(сБжлаю(,уПД\n",
      "5: г, ДьячЛов 4ауим, из гттпз: 23Ь81_6, вжамжжно вкоро получу зачет по теорииьЮжроятнойтеК у ПикЩтина )имилйа ряяХславо,ица. Для этого потржбуетсю прогешать эти простейшие задачи и(сдеЪЯть 2-3 расчетных задЮния. Я(саелаю эгП!\n",
      "6: Я, ДьячЛов 4адим,_из гттпзы_23581_6, воаножсж скомо!пмлу№у зачет по темрииьЮжрЯятнойтей у Пикитина )ирикла бяяХславовицаб Для этого потржбуетсю пробешать эти пУПстейшие зпдачи и(сделБть 2-3 расчетных задания. а(саелаю эгП!\n",
      "7: Я, Дьячков Вадим,_из групзы 23581_4, воШмжжно скоро полу№у зачет по теории Южроятнойтей у НикЩтина Кирилла Вячеславовица. Для_этого потребуетсю пробешать эти прПстейшие задачи и сделЯть 2-3 расчетных задания. а саелаю эгП!\n",
      "8: Я, Дьячков Вадим,_из групзы А3581_4, возмжжно скомо получу зачет по теории ЮжрЯятнойтей у Никитина Кирилла бяяеславовица. Для этого аотребуетсю пробешать эти прПстейшие задачи и сдЁлать 2-3 расчетных задания. а сделаю эго!\n",
      "9: Я, Дьячтов Вадим, из групз: 23581_4, возмжжно скоро получу зачет по теории верЯятностей у Никитина Кирилла бячеславовица. Для этого потребуеося прорешать эти прПстейшие задачи и сделать 2-3 расчетных задания. Я саелаю это!\n",
      "10: Я, Дьячтов Вадим, из группы А3501_4, возможно скорЯ полу№у зачет по теории верЯятнойтей у Никитина Кирилла бяяеславовица. Для этого потребуется прорешать эти прПстейшие задачи и сделать 2-3 расчетных задания. Я саелаю это!\n",
      "11: Я, Дьячтов Вадим, из групп: 23501_4, возможно скорЯ получу зачет по теории вероятностей у Никитина Кирилла Вячеславовича. Аля этого потребуется прорешать эти простейшие задачи и сделать 2-3 расчетных задания. Я сделаю это!\n",
      "12: Я, Дьячтов Вадим, из групп: 23501_4, возможно скорЯ получу зачет по теории вероятностей у Никитина Кирилла Вячеславовича. Аля этого потребуется прорешать эти простейшие задачи и сделать 2-3 расчетных задания. Я сделаю это!\n",
      "13: Я, Дьячтов Вадим, из группы 23501_4, возможно скоро получу зачет по теории вероятностей у Никитина Кирилла Вячеславовича. Аля этого потребуется прорешать эти простейшие задачи и сделать 2-3 расчетных задания. Я сделаю это!\n",
      "14: Я, Дьячтов Вадим, из группы 23501_4, возможно скоро получу зачет по теории вероятностей у Никитина Кирилла Вяяеславовича. Аля этого потребуется прорешать эти простейшие задачи и сделать 2-3 расчетных задания. Я сделаю это!\n",
      "15: Я, Дьячтов Вадим, из группы 23501_4, возможно скоро получу зачет по теории вероятностей у Никитина Кирилла Вячеславовича. Аля этого потребуется прорешать эти простейшие задачи и сделать 2-3 расчетных задания. Я сделаю это!\n",
      "16: Я, Дьячтов Вадим, из группы 23501_4, возможно скоро получу зачет по теории вероятностей у Никитина Кирилла Вяяеславовича. Для этого потребуется прорешать эти простейшие задачи и сделать 2-3 расчетных задания. Я сделаю это!\n",
      "17: Я, Дьячтов Вадим, из группы 23501_4, возможно скоро получу зачет по теории вероятностей у Никитина Кирилла Вячеславовича. Для этого потребуется прорешать эти простейшие задачи и сделать 2-3 расчетных задания. Я сделаю это!\n",
      "18: Я, Дьячтов Вадим, из группы 23501_4, возможно скоро получу зачет по теории вероятностей у Никитина Кирилла Вячеславовича. Для этого потребуется прорешать эти простейшие задачи и сделать 2-3 расчетных задания. Я сделаю это!\n"
     ]
    }
   ],
   "source": [
    "for i in range(m):\n",
    "    print(i + 1, end=': ')\n",
    "    for j in range(s):\n",
    "        max_char = find_max(chars[i][j])\n",
    "        print(max_char, end='')\n",
    "    print()\n"
   ]
  },
  {
   "cell_type": "code",
   "execution_count": 14,
   "metadata": {
    "collapsed": true,
    "scrolled": true
   },
   "outputs": [],
   "source": [
    "import matplotlib.pyplot as plt\n",
    "from matplotlib import rc\n",
    "\n",
    "font = {'family': 'Arial', 'weight': 'normal'}\n",
    "rc('font', **font)\n",
    "\n",
    "for i in range(m):  # для каждого сообщения\n",
    "    char_num = 7\n",
    "    curr = chars[i][char_num]\n",
    "\n",
    "    sorted_keys = get_sorted_keys()\n",
    "    sorted_values = []\n",
    "    for key in sorted_keys:\n",
    "        sorted_values.append(curr[key])\n",
    "\n",
    "    fig = plt.figure(figsize=(11, 7))\n",
    "    plt.bar(range(len(alphabet)), sorted_values, align='center')\n",
    "    plt.xticks(range(len(curr)), sorted_keys)\n",
    "    plt.xlabel('$x$', fontsize=20, labelpad=20)\n",
    "    plt.ylabel('$P(x)$', fontsize=20, labelpad=20)\n",
    "    plt.tick_params(labelsize=9, pad=10)\n",
    "    plt.title('Распределение вероятностей {0}-ой буквы сообщения после {1}-ой посылки'.format(char_num, i + 1), fontsize=15)\n",
    "    plt.tight_layout()\n",
    "    plt.xlim([0, len(curr)])\n",
    "    plt.ylim([0, 1])\n",
    "    plt.tight_layout()\n",
    "    #plt.savefig('./pics/uniform{i}.png'.format(i=i+1))\n",
    "    #plt.show()\n",
    "    plt.close(fig)\n"
   ]
  },
  {
   "cell_type": "markdown",
   "metadata": {},
   "source": [
    "##### Вероятности задаются исходя из частоты встречания букв в русском языке"
   ]
  },
  {
   "cell_type": "code",
   "execution_count": 15,
   "metadata": {},
   "outputs": [
    {
     "name": "stdout",
     "output_type": "stream",
     "text": [
      "{'б': 1.51, 'в': 4.19, 'й': 1.31, 'ч': 1.27, 'ы': 2.11, 'ф': 0.4, 'ь': 1.9, 'е': 8.1, 'о': 9.28, 'х': 0.92, 'э': 0.17, 'н': 6.35, 'я': 2.22, 'ш': 0.77, 'д': 2.56, 'з': 1.81, 'с': 5.45, 'ю': 1.03, 'к': 3.47, 'ъ': 0.04, 'м': 3.29, 'ё': 0.14, 'т': 6.3, 'и': 7.45, 'р': 5.53, 'г': 1.41, 'щ': 0.49, 'п': 3.35, 'у': 2.9, 'ж': 0.78, 'а': 8.66, 'ц': 0.52, 'л': 4.32}\n"
     ]
    }
   ],
   "source": [
    "with open('frequencies.txt', encoding='utf8') as f:\n",
    "    content = f.readlines()\n",
    "    frequncies = {}\n",
    "    content = [x.rstrip().split('\\t') for x in content] \n",
    "    for pair in content:\n",
    "        frequncies[pair[0]] = float(pair[1])\n",
    "        \n",
    "print(frequncies)\n"
   ]
  },
  {
   "cell_type": "code",
   "execution_count": 16,
   "metadata": {
    "collapsed": true
   },
   "outputs": [],
   "source": [
    "def get_frequency(char: str):\n",
    "    \"\"\"Получить вероятноость встречания символа\"\"\"\n",
    "    assert len(char) == 1\n",
    "    char = char.lower()\n",
    "    if char in frequncies.keys():\n",
    "        return len(frequncies) * priori[char] * frequncies[char] / sum(frequncies.values())\n",
    "    else:\n",
    "        return priori[char]\n"
   ]
  },
  {
   "cell_type": "code",
   "execution_count": 17,
   "metadata": {},
   "outputs": [
    {
     "name": "stdout",
     "output_type": "stream",
     "text": [
      "{':': 0.011494252873563218, 'З': 0.00686551724137931, '3': 0.011494252873563218, 'ы': 0.008003448275862069, ')': 0.011494252873563218, '0': 0.011494252873563218, 'Л': 0.016386206896551726, 'П': 0.012706896551724139, 'М': 0.012479310344827585, 'Я': 0.008420689655172415, 'я': 0.008420689655172415, 'ш': 0.002920689655172414, 'х': 0.0034896551724137932, 'Ж': 0.0029586206896551727, 'ч': 0.004817241379310344, 'Ь': 0.007206896551724137, 'Б': 0.005727586206896551, 'ф': 0.0015172413793103448, 'Й': 0.00496896551724138, 'и': 0.02825862068965517, '№': 0.011494252873563218, 'Ц': 0.0019724137931034485, 'Н': 0.02408620689655172, 'п': 0.012706896551724139, 'л': 0.016386206896551726, '9': 0.011494252873563218, 'Щ': 0.0018586206896551724, 'б': 0.005727586206896551, 'Т': 0.02389655172413793, 'о': 0.035199999999999995, 'е': 0.030724137931034477, 'э': 0.0006448275862068966, '6': 0.011494252873563218, '2': 0.011494252873563218, 'д': 0.009710344827586207, 'з': 0.00686551724137931, 'с': 0.020672413793103445, 'Р': 0.020975862068965515, 'К': 0.013162068965517242, 'Д': 0.009710344827586207, 'Ъ': 0.00015172413793103449, 'к': 0.013162068965517242, 'ъ': 0.00015172413793103449, 'Ы': 0.008003448275862069, 'у': 0.011, 'в': 0.015893103448275863, 'щ': 0.0018586206896551724, 'У': 0.011, '(': 0.011494252873563218, '8': 0.011494252873563218, 'г': 0.005348275862068965, 'Г': 0.005348275862068965, ' ': 0.011494252873563218, ',': 0.011494252873563218, '5': 0.011494252873563218, '?': 0.011494252873563218, 'И': 0.02825862068965517, '!': 0.011494252873563218, 'Ш': 0.002920689655172414, 'О': 0.035199999999999995, '1': 0.011494252873563218, 'м': 0.012479310344827585, 'ё': 0.0005310344827586207, 'т': 0.02389655172413793, '.': 0.011494252873563218, '4': 0.011494252873563218, 'Х': 0.0034896551724137932, '_': 0.011494252873563218, 'ц': 0.0019724137931034485, 'й': 0.00496896551724138, 'А': 0.03284827586206896, 'В': 0.015893103448275863, 'Е': 0.030724137931034477, 'Ю': 0.003906896551724138, 'н': 0.02408620689655172, 'ь': 0.007206896551724137, 'Ч': 0.004817241379310344, 'Э': 0.0006448275862068966, '7': 0.011494252873563218, '-': 0.011494252873563218, 'р': 0.020975862068965515, 'С': 0.020672413793103445, 'Ё': 0.0005310344827586207, 'ж': 0.0029586206896551727, 'а': 0.03284827586206896, 'ю': 0.003906896551724138, 'Ф': 0.0015172413793103448}\n",
      "Sum = 0.9999999999999997\n"
     ]
    }
   ],
   "source": [
    "priori_weight = priori.copy()\n",
    "for key in priori_weight.keys():\n",
    "    priori_weight[key] = get_frequency(key)\n",
    "    \n",
    "print(priori_weight)\n",
    "print('Sum = ' + str(sum(priori_weight.values())))\n"
   ]
  },
  {
   "cell_type": "code",
   "execution_count": 18,
   "metadata": {
    "collapsed": true
   },
   "outputs": [],
   "source": [
    "chars_weight = []  # вероятности появления каждого j-ого символа после i-ого сообщения\n",
    "entropies_weight = []  # значения энтропий каждого j-ого символа после i-ого сообщения\n",
    "infos_weight = []  # значения кол-ва информации об j-ом символе после i-ого сообщения\n",
    "\n",
    "char_array = []  # инициализируем априорными вероятностями\n",
    "for j in range(s):\n",
    "    char = priori_weight.copy()\n",
    "    char_array.append(char)\n",
    "chars_weight.append(char_array)\n",
    "\n",
    "for i in range(m):  # для каждого сообщения\n",
    "\n",
    "    entropies_array = []\n",
    "    info_array = []\n",
    "\n",
    "    for j in range(s):  # для каждой буквы в сообщении\n",
    "        entropies_array.append(find_cond_entropy(alphabet, chars_weight[i][j], messages[i][j]))\n",
    "        info_array.append(find_info(alphabet, chars_weight[i][j], messages[i][j]))\n",
    "        chars_weight[i][j] = find_posterior_probs(alphabet, chars_weight[i][j], messages[i][j])\n",
    "\n",
    "    entropies_weight.append(entropies_array)\n",
    "    infos_weight.append(info_array)\n",
    "\n",
    "    if i != m - 1:  # априорное для следующего = постериорное для текущего\n",
    "        char_array = []\n",
    "        for j in range(s):\n",
    "            char = chars_weight[i][j].copy()\n",
    "            char_array.append(char)\n",
    "        chars_weight.append(char_array)\n"
   ]
  },
  {
   "cell_type": "code",
   "execution_count": 19,
   "metadata": {},
   "outputs": [
    {
     "name": "stdout",
     "output_type": "stream",
     "text": [
      "1: 8:ЛДь9чимв 4зЕирТПизьдпПзо:_23521е Т воаНН_пк вкАНпыпЯлдчт_заяит пЯ геНоиб(вевЯчтаосиие2уЗНититиса СирелЬаМр3ч1ТзаЬо,тча. Ял!Л:тогЯ(ЯоПсебмеЯТ! проСииат6(хУикРммвкеи0Ко ззЬа:и(и?ннелЯр. А№Ч(рЯсяерн7х када-_2!кА(и3елаА 9дЗ.\n",
      "2: А:ЛА6э3инв ВаЕХр:_изЛдОоозЕ_235А9? :ЛвоШНо_но виоНаАпАлл№т за:ет по_теооии вето№тноТЕеЖИуЛНетиоиса )иреллаЛТ3:еТИаво,очаВ Ал:Л:тоДо ооореиоеоТ: проре4ат!)-текОоовтеи.ио(зова:и иеОоелЯт! А-еЛрЯТяетнИх еадаееА!та)и3елаю(,тП,\n",
      "3: !, Дь,чЛмв 4ауим, изшгттпз:_23Ь.5Зь, вЧаможно вкорпьпЯлучт еачет по№георииьверЯятнойтеЖМуЛЗеЫитиса (имикла рЕяЦсзавовича. Азя ,тоДо потрертегс: пробе4ать)хти птмвтеифие зРдпчи к(суелЯть 2-ШЛрЯсчетн7х оадания. Я(сАелаю ,дП.\n",
      "4: гЕ(Д!ячЛов Вауим: ил(Ыттпз: 23584_6, вЧамжжно(влоро полу№т(зачет по теории вероятностеК уЛПекЩтина Кирилла ряяХсИавовича, АляЛ,тоДо потреитетс: проте4ат6)хти птостейшие задачи и сселАть 2-3ЛраТчетн7х завания. а саелаю(,тПВ\n",
      "5: г, ДьячЛов 4ауим, из гттпз: 23Ь81_6, воаможно вкоро получу зачет по теорииьЮероятнойтеК у Пикитина )имилйа ряяеславовица. Для ,того потребуетсю прогешать хти простеишие задачи и(сделЯть 2-3 расчетных задания. Я(саелаю ,гП!\n",
      "6: Я, ДьячЛов Вауим,_из гттпз:_23581_6, воаножно слоро!полу№у зачет по теории(ЮероятнойтеК у Никитина Кирелла ряяеславовичаВ Для этого потребуетсю проиешать эти птостейшие задачи и(сделать 2-3 расчетных задания. а саелаю этП!\n",
      "7: Я, Дьячков Вадим,_из групзы 23581_4, воаможно скоро полу№у зачет по теории Юероятнойтей у Никитина Кирилла Вячеславовица. Для_этого потребуетсю пробешать эти прПстейшие задачи и сделЯть 2-3 расчетных задания. а саелаю эгП!\n",
      "8: Я, Дьячтов Вадим,_из групз: А3581_4, возмжжно слоро полу№у зачет по теории вероятностей у Никитина Кирелла Вяяеславовица. Аля этого аотребуеося прорешать эти простейшие задачи и(сделать 2-3 расчетных задания. а саелаю это!\n",
      "9: Я, Дьячтов Вадим, из групз: 23581_4, возможно скоро получу зачет по теории верЯятностей у Никитина Кирилла бячеславовица. Для этого потребуеося прорешать эти прПстейшие задачи и сделать 2-3 расчетных задания. Я саелаю это!\n",
      "10: Я, Дьячтов Вадим, из групп: А3501_4, возможно скоро полу№у зачет по теории вероятностей у Никитина Кирилла Вяяеславовича. Аля этого потребуеося прорешать эти простейшие задачи и сделать 2-3 расчетных задания. Я саелаю это!\n",
      "11: Я, Дьячтов Вадим, из групп: 23501_4, возможно скорЯ получу зачет по теории вероятностей у Никитина Кирилла Вячеславовича. Аля этого потребуется прорешать эти простейшие задачи и сделать 2-3 расчетных задания. Я сделаю это!\n",
      "12: Я, Дьячтов Вадим, из групп: 23501_4, возможно скоро получу зачет по теории вероятностей у Никитина Кирилла Вячеславовича. Аля этого потребуется прорешать эти простейшие задачи и сделать 2-3 расчетных задания. Я саелаю это!\n",
      "13: Я, Дьячтов Вадим, из группы 23501_4, возможно скоро получу зачет по теории вероятностей у Никитина Кирилла Вячеславовича. Аля этого потребуется прорешать эти простейшие задачи и сделать 2-3 расчетных задания. Я сделаю это!\n",
      "14: Я, Дьячтов Вадим, из группы 23501_4, возможно скоро получу зачет по теории вероятностей у Никитина Кирилла Вяяеславовича. Аля этого потребуется прорешать эти простейшие задачи и сделать 2-3 расчетных задания. Я сделаю это!\n",
      "15: Я, Дьячтов Вадим, из группы 23501_4, возможно скоро получу зачет по теории вероятностей у Никитина Кирилла Вячеславовича. Аля этого потребуется прорешать эти простейшие задачи и сделать 2-3 расчетных задания. Я сделаю это!\n",
      "16: Я, Дьячтов Вадим, из группы 23501_4, возможно скоро получу зачет по теории вероятностей у Никитина Кирилла Вяяеславовича. Аля этого потребуется прорешать эти простейшие задачи и сделать 2-3 расчетных задания. Я сделаю это!\n",
      "17: Я, Дьячтов Вадим, из группы 23501_4, возможно скоро получу зачет по теории вероятностей у Никитина Кирилла Вячеславовича. Для этого потребуется прорешать эти простейшие задачи и сделать 2-3 расчетных задания. Я сделаю это!\n",
      "18: Я, Дьячтов Вадим, из группы 23501_4, возможно скоро получу зачет по теории вероятностей у Никитина Кирилла Вячеславовича. Для этого потребуется прорешать эти простейшие задачи и сделать 2-3 расчетных задания. Я сделаю это!\n"
     ]
    }
   ],
   "source": [
    "for i in range(m):\n",
    "    print(i + 1, end=': ')\n",
    "    for j in range(s):\n",
    "        max_char = find_max(chars_weight[i][j])\n",
    "        print(max_char, end='')\n",
    "    print()\n"
   ]
  },
  {
   "cell_type": "code",
   "execution_count": 20,
   "metadata": {
    "collapsed": true
   },
   "outputs": [],
   "source": [
    "for i in range(m):  # для каждого сообщения\n",
    "    char_num = 7\n",
    "    curr = chars_weight[i][char_num]\n",
    "\n",
    "    sorted_keys = get_sorted_keys()\n",
    "    sorted_values = []\n",
    "    for key in sorted_keys:\n",
    "        sorted_values.append(curr[key])\n",
    "\n",
    "    fig = plt.figure(figsize=(11, 7))\n",
    "    plt.bar(range(len(alphabet)), sorted_values, align='center')\n",
    "    plt.xticks(range(len(curr)), sorted_keys)\n",
    "    plt.xlabel('$x$', fontsize=20, labelpad=20)\n",
    "    plt.ylabel('$P(x)$', fontsize=20, labelpad=20)\n",
    "    plt.tick_params(labelsize=9, pad=10)\n",
    "    plt.title('Распределение вероятностей {0}-ой буквы сообщения после {1}-ой посылки'.format(char_num, i + 1), fontsize=15)\n",
    "    plt.tight_layout()\n",
    "    plt.xlim([0, len(curr)])\n",
    "    plt.ylim([0, 1])\n",
    "    plt.tight_layout()\n",
    "    #plt.savefig('./pics/weight{i}.png'.format(i=i+1))\n",
    "    #plt.show()\n",
    "    plt.close(fig)\n"
   ]
  },
  {
   "cell_type": "markdown",
   "metadata": {},
   "source": [
    "Из результатов видно, что в ситуации, когда вероятности задаются ихсодя из частоты встречания букв в русском языке, зашумленное сообщение было распознано немного быстрее."
   ]
  },
  {
   "cell_type": "markdown",
   "metadata": {},
   "source": [
    "#### 1.2. Расчет энтропии и количества информации"
   ]
  },
  {
   "cell_type": "code",
   "execution_count": 21,
   "metadata": {},
   "outputs": [
    {
     "data": {
      "image/png": "[encoded data removed]",
      "text/plain": [
       "<matplotlib.figure.Figure at 0x20759fefa58>"
      ]
     },
     "metadata": {},
     "output_type": "display_data"
    }
   ],
   "source": [
    "x = range(1, m+1)\n",
    "h_u = []\n",
    "h_w = []\n",
    "\n",
    "for i in range(m):\n",
    "    char_num = 7\n",
    "    h_u.append(entropies[i][char_num])\n",
    "    h_w.append(entropies_weight[i][char_num])\n",
    "    \n",
    "fig = plt.figure(figsize=(11,7))\n",
    "plt.plot(x, h_u, marker='s', label='Равновероятное')\n",
    "plt.plot(x, h_w, marker='s', label='Взвешенное')\n",
    "plt.legend(fontsize=15)\n",
    "plt.xlabel('Номер сообщения', fontsize=15)\n",
    "plt.ylabel('$H(x)$', fontsize=20)\n",
    "plt.tick_params(labelsize=15, pad=10)\n",
    "plt.title('Энтропия {0}-ой буквы сообщения'.format(char_num, i + 1), fontsize=20)\n",
    "plt.tight_layout()\n",
    "#plt.savefig('./pics/entropy.png')\n",
    "plt.show()\n",
    "plt.close()\n"
   ]
  },
  {
   "cell_type": "code",
   "execution_count": 22,
   "metadata": {},
   "outputs": [
    {
     "data": {
      "image/png": "[encoded data removed]",
      "text/plain": [
       "<matplotlib.figure.Figure at 0x2075c0519e8>"
      ]
     },
     "metadata": {},
     "output_type": "display_data"
    }
   ],
   "source": [
    "x = range(1, m+1)\n",
    "i_u = []\n",
    "i_w = []\n",
    "\n",
    "for i in range(m):\n",
    "    char_num = 7\n",
    "    i_u.append(infos[i][char_num])\n",
    "    i_w.append(infos_weight[i][char_num])\n",
    "    \n",
    "fig = plt.figure(figsize=(11,7))\n",
    "plt.plot(x, i_u, marker='s', label='Равновероятное')\n",
    "plt.plot(x, i_w, marker='s', label='Взвешенное')\n",
    "plt.legend(fontsize=15, loc='upper left')\n",
    "plt.xlabel('Номер сообщения', fontsize=15)\n",
    "plt.ylabel('$I(x)$', fontsize=20)\n",
    "plt.tick_params(labelsize=15, pad=10)\n",
    "plt.title('Количество информации о {0}-ой букве сообщения'.format(char_num, i + 1), fontsize=20)\n",
    "plt.tight_layout()\n",
    "#plt.savefig('./pics/entropy.png')\n",
    "plt.show()\n",
    "plt.close()\n"
   ]
  },
  {
   "cell_type": "markdown",
   "metadata": {},
   "source": [
    "Средняя условная энтропия $H(X|Y)$ и среднее количество информации $I(X|Y)$: "
   ]
  },
  {
   "cell_type": "code",
   "execution_count": 23,
   "metadata": {},
   "outputs": [
    {
     "name": "stdout",
     "output_type": "stream",
     "text": [
      "H_uniform(X|Y) = 0.8616924025101422\n",
      "I_uniform(X|Y) = 5.58125109333858\n",
      "H_weighted(X|Y) = 1.2354422110832057\n",
      "I_weighted(X|Y) = 4.794408292979068\n"
     ]
    }
   ],
   "source": [
    "char_num = 7\n",
    "\n",
    "msgs = []\n",
    "for i in range(m):\n",
    "    msgs.append(messages[i][char_num])\n",
    "\n",
    "print('H_uniform(X|Y) = {h}'.format(h=find_avg_entropy(alphabet, priori, msgs)))\n",
    "print('I_uniform(X|Y) = {i}'.format(i=find_avg_info(alphabet, priori, msgs)))\n",
    "print('H_weighted(X|Y) = {h}'.format(h=find_avg_entropy(alphabet, priori_weight, msgs)))\n",
    "print('I_weighted(X|Y) = {i}'.format(i=find_avg_info(alphabet, priori_weight, msgs)))"
   ]
  },
  {
   "cell_type": "markdown",
   "metadata": {},
   "source": [
    "### Часть 2 Передача сообщения путем многократного дублирования"
   ]
  },
  {
   "cell_type": "markdown",
   "metadata": {},
   "source": [
    "#### Все символы равновероятны"
   ]
  },
  {
   "cell_type": "code",
   "execution_count": 24,
   "metadata": {
    "collapsed": true
   },
   "outputs": [],
   "source": [
    "long_alphabet = alphabet.copy()\n",
    "\n",
    "for key in long_alphabet.keys():\n",
    "    long_alphabet[key] = long_alphabet[key] * 18"
   ]
  },
  {
   "cell_type": "code",
   "execution_count": 25,
   "metadata": {
    "collapsed": true
   },
   "outputs": [],
   "source": [
    "def get_char_long(code: str):\n",
    "    \"\"\"Найти символ по его двоичному коду\"\"\"\n",
    "    for key, value in long_alphabet.items():\n",
    "        if value == code:\n",
    "            return key\n"
   ]
  },
  {
   "cell_type": "code",
   "execution_count": 26,
   "metadata": {
    "collapsed": true
   },
   "outputs": [],
   "source": [
    "long_chars = []  # вероятности появления каждого j-ого символа инициализируем априорными вероятностями\n",
    "long_entropies = []  # значения энтропий каждого j-ого символа\n",
    "long_infos = []  # значения кол-ва информации об j-ом символе\n",
    "for j in range(s):\n",
    "    char = priori.copy()\n",
    "    long_chars.append(char)\n",
    "\n",
    "for j in range(s):  # для каждой буквы в сообщении\n",
    "    long_char = ''\n",
    "    for i in range(m):  # для каждого сообщения\n",
    "        long_char = long_char + messages[i][j]\n",
    "    long_chars[j] = find_posterior_probs(long_alphabet, long_chars[j], long_char)\n",
    "    long_entropies.append(find_cond_entropy(long_alphabet, long_chars[j], long_char))\n",
    "    long_infos.append(find_info(long_alphabet, long_chars[j], long_char))"
   ]
  },
  {
   "cell_type": "code",
   "execution_count": 27,
   "metadata": {},
   "outputs": [
    {
     "name": "stdout",
     "output_type": "stream",
     "text": [
      "Я, Дьячтов Вадим, из группы 23501_4, возможно скоро получу зачет по теории вероятностей у Никитина Кирилла Вячеславовича. Для этого потребуется прорешать эти простейшие задачи и сделать 2-3 расчетных задания. Я сделаю это!\n"
     ]
    }
   ],
   "source": [
    "for j in range(s):\n",
    "    max_char = find_max(long_chars[j])\n",
    "    print(max_char, end='')\n",
    "print()"
   ]
  },
  {
   "cell_type": "code",
   "execution_count": 28,
   "metadata": {},
   "outputs": [
    {
     "data": {
      "image/png": "[encoded data removed]",
      "text/plain": [
       "<matplotlib.figure.Figure at 0x2075c21b358>"
      ]
     },
     "metadata": {},
     "output_type": "display_data"
    }
   ],
   "source": [
    "import matplotlib.pyplot as plt\n",
    "from matplotlib import rc\n",
    "\n",
    "font = {'family': 'Arial', 'weight': 'normal'}\n",
    "rc('font', **font)\n",
    "\n",
    "char_num = 7\n",
    "curr = long_chars[char_num]\n",
    "\n",
    "sorted_keys = get_sorted_keys()\n",
    "sorted_values = []\n",
    "for key in sorted_keys:\n",
    "    sorted_values.append(curr[key])\n",
    "\n",
    "fig = plt.figure(figsize=(11, 7))\n",
    "plt.bar(range(len(alphabet)), sorted_values, align='center')\n",
    "plt.xticks(range(len(curr)), sorted_keys)\n",
    "plt.xlabel('$x$', fontsize=20, labelpad=20)\n",
    "plt.ylabel('$P(x)$', fontsize=20, labelpad=20)\n",
    "plt.tick_params(labelsize=9, pad=10)\n",
    "plt.title('Распределение вероятностей {0}-ой буквы сообщения после посылки'.format(char_num), fontsize=15)\n",
    "plt.tight_layout()\n",
    "plt.xlim([0, len(curr)])\n",
    "plt.ylim([0, 1])\n",
    "plt.tight_layout()\n",
    "#plt.savefig('./pics/uniform{i}.png'.format(i=i+1))\n",
    "plt.show()\n",
    "plt.close(fig)"
   ]
  },
  {
   "cell_type": "markdown",
   "metadata": {},
   "source": [
    "#### Вероятности задаются исходя из частоты встречания букв в русском языке"
   ]
  },
  {
   "cell_type": "code",
   "execution_count": 29,
   "metadata": {
    "collapsed": true
   },
   "outputs": [],
   "source": [
    "long_chars_weight = []  # вероятности появления каждого j-ого символа инициализируем априорными вероятностями\n",
    "long_entropies_weight = []  # значения энтропий каждого j-ого символа\n",
    "long_infos_weight = []  # значения кол-ва информации об j-ом символе\n",
    "for j in range(s):\n",
    "    char = priori_weight.copy()\n",
    "    long_chars_weight.append(char)\n",
    "\n",
    "for j in range(s):  # для каждой буквы в сообщении\n",
    "    long_char = ''\n",
    "    for i in range(m):  # для каждого сообщения\n",
    "        long_char = long_char + messages[i][j]\n",
    "    long_entropies_weight.append(find_cond_entropy(long_alphabet, long_chars_weight[j], long_char))\n",
    "    long_infos_weight.append(find_info(long_alphabet, long_chars_weight[j], long_char))\n",
    "    long_chars_weight[j] = find_posterior_probs(long_alphabet, long_chars_weight[j], long_char)"
   ]
  },
  {
   "cell_type": "code",
   "execution_count": 30,
   "metadata": {},
   "outputs": [
    {
     "name": "stdout",
     "output_type": "stream",
     "text": [
      "Я, Дьячтов Вадим, из группы 23501_4, возможно скоро получу зачет по теории вероятностей у Никитина Кирилла Вячеславовича. Для этого потребуется прорешать эти простейшие задачи и сделать 2-3 расчетных задания. Я сделаю это!\n"
     ]
    }
   ],
   "source": [
    "for j in range(s):\n",
    "    max_char = find_max(long_chars[j])\n",
    "    print(max_char, end='')\n",
    "print()"
   ]
  },
  {
   "cell_type": "code",
   "execution_count": 31,
   "metadata": {},
   "outputs": [
    {
     "data": {
      "image/png": "[encoded data removed]",
      "text/plain": [
       "<matplotlib.figure.Figure at 0x2075c029cc0>"
      ]
     },
     "metadata": {},
     "output_type": "display_data"
    }
   ],
   "source": [
    "import matplotlib.pyplot as plt\n",
    "from matplotlib import rc\n",
    "\n",
    "font = {'family': 'Arial', 'weight': 'normal'}\n",
    "rc('font', **font)\n",
    "\n",
    "char_num = 7\n",
    "curr = long_chars[char_num]\n",
    "\n",
    "sorted_keys = get_sorted_keys()\n",
    "sorted_values = []\n",
    "for key in sorted_keys:\n",
    "    sorted_values.append(curr[key])\n",
    "\n",
    "fig = plt.figure(figsize=(11, 7))\n",
    "plt.bar(range(len(alphabet)), sorted_values, align='center')\n",
    "plt.xticks(range(len(curr)), sorted_keys)\n",
    "plt.xlabel('$x$', fontsize=20, labelpad=20)\n",
    "plt.ylabel('$P(x)$', fontsize=20, labelpad=20)\n",
    "plt.tick_params(labelsize=9, pad=10)\n",
    "plt.title('Распределение вероятностей {0}-ой буквы сообщения после посылки'.format(char_num), fontsize=15)\n",
    "plt.tight_layout()\n",
    "plt.xlim([0, len(curr)])\n",
    "plt.ylim([0, 1])\n",
    "plt.tight_layout()\n",
    "#plt.savefig('./pics/uniform{i}.png'.format(i=i+1))\n",
    "plt.show()\n",
    "plt.close(fig)"
   ]
  },
  {
   "cell_type": "markdown",
   "metadata": {},
   "source": [
    "#### 2.2. Расчет энтропии и количества информации"
   ]
  },
  {
   "cell_type": "code",
   "execution_count": 32,
   "metadata": {},
   "outputs": [
    {
     "name": "stdout",
     "output_type": "stream",
     "text": [
      "0.017774318982661796\n",
      "0.1618074336624431\n"
     ]
    }
   ],
   "source": [
    "char_num = 7\n",
    "print(long_entropies[char_num])\n",
    "print(long_entropies_weight[char_num])"
   ]
  },
  {
   "cell_type": "code",
   "execution_count": 33,
   "metadata": {},
   "outputs": [
    {
     "name": "stdout",
     "output_type": "stream",
     "text": [
      "-0.017774318982661796\n",
      "-0.1618074336624431\n"
     ]
    }
   ],
   "source": [
    "print(long_infos[char_num])\n",
    "print(long_infos_weight[char_num])"
   ]
  },
  {
   "cell_type": "code",
   "execution_count": 34,
   "metadata": {},
   "outputs": [
    {
     "name": "stdout",
     "output_type": "stream",
     "text": [
      "H_uniform(X|Y) = 0.016388735257036064\n",
      "I_uniform(X|Y) = 6.426554760591687\n",
      "H_weighted(X|Y) = 0.01844609666267513\n",
      "I_weighted(X|Y) = 6.011404407399599\n"
     ]
    }
   ],
   "source": [
    "char_num = 7\n",
    "\n",
    "msgs = []\n",
    "for j in range(s):  # для каждой буквы в сообщении\n",
    "    long_char = ''\n",
    "    for i in range(m):  # для каждого сообщения\n",
    "        long_char = long_char + messages[i][j]\n",
    "    msgs.append(long_char)\n",
    "\n",
    "print('H_uniform(X|Y) = {h}'.format(h=find_avg_entropy(long_alphabet, priori, msgs)))\n",
    "print('I_uniform(X|Y) = {i}'.format(i=find_avg_info(long_alphabet, priori, msgs)))\n",
    "print('H_weighted(X|Y) = {h}'.format(h=find_avg_entropy(long_alphabet, priori_weight, msgs)))\n",
    "print('I_weighted(X|Y) = {i}'.format(i=find_avg_info(long_alphabet, priori_weight, msgs)))"
   ]
  }
 ],
 "metadata": {
  "kernelspec": {
   "display_name": "Python 3",
   "language": "python",
   "name": "python3"
  },
  "language_info": {
   "codemirror_mode": {
    "name": "ipython",
    "version": 3
   },
   "file_extension": ".py",
   "mimetype": "text/x-python",
   "name": "python",
   "nbconvert_exporter": "python",
   "pygments_lexer": "ipython3",
   "version": "3.5.2"
  }
 },
 "nbformat": 4,
 "nbformat_minor": 1
}
