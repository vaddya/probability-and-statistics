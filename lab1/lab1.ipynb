{
 "cells": [
  {
   "cell_type": "markdown",
   "metadata": {},
   "source": [
    "# Расчетная работа по теории вероятностей № 1"
   ]
  },
  {
   "cell_type": "markdown",
   "metadata": {},
   "source": [
    "### Исходный алфавит"
   ]
  },
  {
   "cell_type": "code",
   "execution_count": 1,
   "metadata": {},
   "outputs": [
    {
     "name": "stdout",
     "output_type": "stream",
     "text": [
      "{'ж': '0110010', 'ь': '1000110', 'ы': '1000111', 'ю': '1001010', 'е': '0110000', 'Ы': '0100110', 'в': '0101101', 'З': '0010010', 'т': '0111110', '6': '0000110', '8': '0001000', '?': '1010000', 'б': '0101100', 'А': '0001010', 'М': '0010111', 'Ж': '0010001', 'Ш': '0100011', 'И': '0010011', 'Г': '0001101', 'п': '0111011', 'ц': '1000010', 'м': '0111000', 'Э': '0101000', 'Р': '0011011', '4': '0000100', 'л': '0110111', '0': '0000000', 'Л': '0010110', 'э': '1001001', ')': '1010101', 'щ': '1000101', 'Щ': '0100100', 'г': '0101110', '!': '1001110', '.': '1001100', 'а': '0101011', '3': '0000011', 'Х': '0100000', 'Д': '0001110', 'д': '0101111', 'р': '0111100', 'С': '0011100', 'ф': '1000000', '2': '0000010', 'о': '0111010', 'и': '0110100', 'К': '0010101', 'О': '0011001', 'н': '0111001', 'й': '0110101', 'Ю': '0101001', ' ': '1010110', 'Ц': '0100001', 'Е': '0001111', 'Б': '0001011', 'ш': '1000100', 'В': '0001100', '-': '1010001', 'Ф': '0011111', '1': '0000001', 'Ч': '0100010', 'П': '0011010', 'х': '1000001', 'з': '0110011', '5': '0000101', 'Ъ': '0100111', 'Т': '0011101', '9': '0001001', 'ъ': '1001000', 'ё': '0110001', '№': '1010011', 'Й': '0010100', '7': '0000111', '(': '1010100', 'у': '0111111', 'Н': '0011000', 'Ь': '0100101', 'У': '0011110', '_': '1010010', 'с': '0111101', 'я': '1001011', 'к': '0110110', ':': '1001111', ',': '1001101', 'ч': '1000011', 'Я': '0101010', 'Ё': '0010000'}\n"
     ]
    }
   ],
   "source": [
    "alphabet = {}\n",
    "with open('alphabet.txt', encoding='utf8') as f:\n",
    "    content = f.readlines()\n",
    "    content = [x.rstrip().split('\\t') for x in content] \n",
    "    for pair in content:\n",
    "        alphabet[pair[0]] = pair[1]\n",
    "    print(alphabet)"
   ]
  },
  {
   "cell_type": "code",
   "execution_count": 2,
   "metadata": {
    "collapsed": true
   },
   "outputs": [],
   "source": [
    "def get_char(code: str):\n",
    "    for key, value in alphabet.items():\n",
    "        if value == code:\n",
    "            return key\n",
    "    #return [k for k, v in dic.items() if v == code][0]"
   ]
  },
  {
   "cell_type": "markdown",
   "metadata": {},
   "source": [
    "Словарь априорных вероятностей:"
   ]
  },
  {
   "cell_type": "code",
   "execution_count": 3,
   "metadata": {},
   "outputs": [],
   "source": [
    "apriori = alphabet.copy()\n",
    "n = len(alphabet)\n",
    "p = 1 / n\n",
    "for key, value in apriori.items():\n",
    "    apriori[key] = p\n",
    "#apriori['~'] = -1"
   ]
  },
  {
   "cell_type": "markdown",
   "metadata": {},
   "source": [
    "Функция, находящая максимальное значение в словаре"
   ]
  },
  {
   "cell_type": "code",
   "execution_count": 4,
   "metadata": {
    "collapsed": true
   },
   "outputs": [],
   "source": [
    "def find_max(d: dict):\n",
    "    return max(d, key=d.get)"
   ]
  },
  {
   "cell_type": "markdown",
   "metadata": {},
   "source": [
    "Словарь апостариорных вероятностей:"
   ]
  },
  {
   "cell_type": "code",
   "execution_count": 5,
   "metadata": {
    "collapsed": true
   },
   "outputs": [],
   "source": [
    "aposteriori = alphabet.copy()"
   ]
  },
  {
   "cell_type": "markdown",
   "metadata": {},
   "source": [
    "### Входные данные"
   ]
  },
  {
   "cell_type": "code",
   "execution_count": 6,
   "metadata": {},
   "outputs": [],
   "source": [
    "f = open('input.txt', encoding='utf8')\n",
    "content = f.readlines()"
   ]
  },
  {
   "cell_type": "markdown",
   "metadata": {},
   "source": [
    "Колличество букв в каждом сообщении равно $s$:"
   ]
  },
  {
   "cell_type": "code",
   "execution_count": 7,
   "metadata": {},
   "outputs": [
    {
     "name": "stdout",
     "output_type": "stream",
     "text": [
      "s = 222\n"
     ]
    }
   ],
   "source": [
    "s = int(content[0].split(': ')[1])\n",
    "print('s = {s}'.format(s=s))"
   ]
  },
  {
   "cell_type": "markdown",
   "metadata": {},
   "source": [
    "Вероятность искажения каждого отдельного символа (бита) равна $q$, вероятность правильной передачи $p = 1 - q$:"
   ]
  },
  {
   "cell_type": "code",
   "execution_count": 8,
   "metadata": {},
   "outputs": [
    {
     "name": "stdout",
     "output_type": "stream",
     "text": [
      "p = 0.832, q = 0.168\n"
     ]
    }
   ],
   "source": [
    "q = float(content[2].split(': ')[1])\n",
    "p = 1 - q\n",
    "print('p = {p}, q = {q}'.format(p=p, q=q))"
   ]
  },
  {
   "cell_type": "markdown",
   "metadata": {},
   "source": [
    "Колличествно передач равно $m$:"
   ]
  },
  {
   "cell_type": "code",
   "execution_count": 9,
   "metadata": {},
   "outputs": [
    {
     "name": "stdout",
     "output_type": "stream",
     "text": [
      "m = 18\n"
     ]
    }
   ],
   "source": [
    "m = int(content[3].split(': ')[1])\n",
    "print('m = {m}'.format(m=m))"
   ]
  },
  {
   "cell_type": "markdown",
   "metadata": {},
   "source": [
    "Функция вероятности того, что $code1$ и $code2$ - это одно и то же сообщение "
   ]
  },
  {
   "cell_type": "code",
   "execution_count": 10,
   "metadata": {},
   "outputs": [],
   "source": [
    "def find_probability(code1, code2):\n",
    "    assert len(code1) == len(code2)\n",
    "    probability = 1\n",
    "    for i in range(len(code1)):\n",
    "        probability = probability * (p if code1[i] == code2[i] else q)\n",
    "    return probability"
   ]
  },
  {
   "cell_type": "code",
   "execution_count": 11,
   "metadata": {},
   "outputs": [
    {
     "name": "stdout",
     "output_type": "stream",
     "text": [
      "0.0007965941760000002\n",
      "0.019537330176\n",
      "0.47917406617599995\n"
     ]
    }
   ],
   "source": [
    "print(find_probability('1111', '0000'))\n",
    "print(find_probability('1111', '1100'))\n",
    "print(find_probability('1111', '1111'))"
   ]
  },
  {
   "cell_type": "code",
   "execution_count": 23,
   "metadata": {},
   "outputs": [],
   "source": [
    "messages = []\n",
    "\n",
    "chars = []\n",
    "\n",
    "for i in range(s):\n",
    "    char = apriori.copy()\n",
    "    chars.append(char)\n",
    "\n",
    "for i in range(m):\n",
    "    codes = content[i + 4].split(': ')[1].rstrip().split(' ')\n",
    "    messages.append(codes)\n",
    "    for j in range(s):\n",
    "        #key = get_char(codes[j])\n",
    "        #if (key is None): key = '~'\n",
    "        #print(alphabet)\n",
    "        #print('before')\n",
    "        #print(chars[j])\n",
    "        #print(codes[j])\n",
    "        recalc_probabilities(chars[j], codes[j])\n",
    "        #print('after')\n",
    "        #print(chars[j])\n",
    "        #print(key, end='')"
   ]
  },
  {
   "cell_type": "code",
   "execution_count": 13,
   "metadata": {
    "collapsed": true
   },
   "outputs": [],
   "source": [
    "def recalc_probabilities(dict_char: dict, code: str):\n",
    "    cond_probs = alphabet.copy()\n",
    "    for char in cond_probs.keys():\n",
    "        cond_probs[char] = find_probability(alphabet[char], code)\n",
    "    \n",
    "    summ = 0\n",
    "    for char in cond_probs.keys():\n",
    "        summ = summ + cond_probs[char] * dict_char[char]\n",
    "    \n",
    "    for char in dict_char.keys():\n",
    "        new_prob = cond_probs[char] * dict_char[char] / summ\n",
    "        dict_char[char] = new_prob"
   ]
  },
  {
   "cell_type": "code",
   "execution_count": 31,
   "metadata": {},
   "outputs": [
    {
     "name": "stdout",
     "output_type": "stream",
     "text": [
      "Я, Дьячтов Вадим, из группы 23501_4, возможно скоро получу зачет по теории вероятностей у Никитина Кирилла Вячеславовича. Для этого потребуется прорешать эти простейшие задачи и сделать 2-3 расчетных задания. Я сделаю это!"
     ]
    }
   ],
   "source": [
    "for char in chars:\n",
    "    max_char = find_max(char)\n",
    "    print(max_char, end='')"
   ]
  }
 ],
 "metadata": {
  "kernelspec": {
   "display_name": "Python 3",
   "language": "python",
   "name": "python3"
  },
  "language_info": {
   "codemirror_mode": {
    "name": "ipython",
    "version": 3
   },
   "file_extension": ".py",
   "mimetype": "text/x-python",
   "name": "python",
   "nbconvert_exporter": "python",
   "pygments_lexer": "ipython3",
   "version": "3.5.2"
  }
 },
 "nbformat": 4,
 "nbformat_minor": 2
}
